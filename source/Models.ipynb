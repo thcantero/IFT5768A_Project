{
 "cells": [
  {
   "cell_type": "code",
   "execution_count": 1,
   "id": "ad14af43-6e5a-405b-a488-a18cc91f7dfa",
   "metadata": {},
   "outputs": [],
   "source": [
    "import matplotlib.pyplot as plt\n",
    "import numpy as np\n",
    "import pandas as pd\n",
    "import wandb, joblib\n",
    "from sklearn.metrics import roc_auc_score, roc_curve\n",
    "from sklearn.calibration import CalibrationDisplay\n",
    "from sklearn.model_selection import train_test_split\n",
    "from sklearn.ensemble import RandomForestClassifier\n",
    "from sklearn.calibration import calibration_curve\n",
    "import pandas as pd\n",
    "import numpy as np\n",
    "from sklearn.preprocessing import MinMaxScaler\n",
    "from sklearn.metrics import roc_auc_score, accuracy_score, f1_score, log_loss, confusion_matrix"
   ]
  },
  {
   "cell_type": "code",
   "execution_count": 2,
   "id": "5c0ce335-9ac9-4c21-b935-de19525005c7",
   "metadata": {},
   "outputs": [],
   "source": [
    "from create_graphs import create_wandb_graphs\n",
    "from evaluate_model import evaluate_model\n",
    "from models import random_forest, decision_tree, lightgbm, xg_boost, cat_boost, knn\n",
    "from data_preprocess import preprocess_data, data_split"
   ]
  },
  {
   "cell_type": "code",
   "execution_count": 4,
   "id": "92bc3c4d-f6ac-4808-a056-2d012da74bbd",
   "metadata": {},
   "outputs": [],
   "source": [
    "import pandas as pd\n",
    "# Read in data and assign X and y   %%% Dois je \n",
    "# utiliser ceux de la question 3 o u 4\n",
    "data = pd.read_csv('../data/Milestone2_data/Q4_train.csv', index_col=0)\n",
    "\n",
    "X = data.drop(columns=['isGoal'])\n",
    "y = data[['isGoal']]\n",
    "\n",
    "X_train, X_val, y_train, y_val = train_test_split(X, y, test_size=0.2, random_state=42)"
   ]
  },
  {
   "cell_type": "code",
   "execution_count": 5,
   "id": "a61538f9-1223-4916-96f6-03d34375f9df",
   "metadata": {},
   "outputs": [
    {
     "name": "stderr",
     "output_type": "stream",
     "text": [
      "\u001b[34m\u001b[1mwandb\u001b[0m: Using wandb-core as the SDK backend.  Please refer to https://wandb.me/wandb-core for more information.\n",
      "\u001b[34m\u001b[1mwandb\u001b[0m: Currently logged in as: \u001b[33mthalia-cantero\u001b[0m (\u001b[33mthalia-cantero-udem\u001b[0m). Use \u001b[1m`wandb login --relogin`\u001b[0m to force relogin\n"
     ]
    },
    {
     "data": {
      "text/html": [
       "Tracking run with wandb version 0.18.7"
      ],
      "text/plain": [
       "<IPython.core.display.HTML object>"
      ]
     },
     "metadata": {},
     "output_type": "display_data"
    },
    {
     "data": {
      "text/html": [
       "Run data is saved locally in <code>/Users/thaliacantero/Documents/UdeM/2024 Automne/Science _de_donnes/Project/project-template/source/wandb/run-20241122_201334-r4ker5bb</code>"
      ],
      "text/plain": [
       "<IPython.core.display.HTML object>"
      ]
     },
     "metadata": {},
     "output_type": "display_data"
    },
    {
     "data": {
      "text/html": [
       "Syncing run <strong><a href='https://wandb.ai/thalia-cantero-udem/IFT6758.2024-A04/runs/r4ker5bb' target=\"_blank\">Ligth GBM</a></strong> to <a href='https://wandb.ai/thalia-cantero-udem/IFT6758.2024-A04' target=\"_blank\">Weights & Biases</a> (<a href='https://wandb.me/developer-guide' target=\"_blank\">docs</a>)<br/>"
      ],
      "text/plain": [
       "<IPython.core.display.HTML object>"
      ]
     },
     "metadata": {},
     "output_type": "display_data"
    },
    {
     "data": {
      "text/html": [
       " View project at <a href='https://wandb.ai/thalia-cantero-udem/IFT6758.2024-A04' target=\"_blank\">https://wandb.ai/thalia-cantero-udem/IFT6758.2024-A04</a>"
      ],
      "text/plain": [
       "<IPython.core.display.HTML object>"
      ]
     },
     "metadata": {},
     "output_type": "display_data"
    },
    {
     "data": {
      "text/html": [
       " View run at <a href='https://wandb.ai/thalia-cantero-udem/IFT6758.2024-A04/runs/r4ker5bb' target=\"_blank\">https://wandb.ai/thalia-cantero-udem/IFT6758.2024-A04/runs/r4ker5bb</a>"
      ],
      "text/plain": [
       "<IPython.core.display.HTML object>"
      ]
     },
     "metadata": {},
     "output_type": "display_data"
    },
    {
     "name": "stderr",
     "output_type": "stream",
     "text": [
      "/Users/thaliacantero/ift6758-venv/lib/python3.12/site-packages/sklearn/preprocessing/_label.py:97: DataConversionWarning: A column-vector y was passed when a 1d array was expected. Please change the shape of y to (n_samples, ), for example using ravel().\n",
      "  y = column_or_1d(y, warn=True)\n",
      "/Users/thaliacantero/ift6758-venv/lib/python3.12/site-packages/sklearn/preprocessing/_label.py:132: DataConversionWarning: A column-vector y was passed when a 1d array was expected. Please change the shape of y to (n_samples, ), for example using ravel().\n",
      "  y = column_or_1d(y, dtype=self.classes_.dtype, warn=True)\n"
     ]
    },
    {
     "name": "stdout",
     "output_type": "stream",
     "text": [
      "[LightGBM] [Info] Number of positive: 24695, number of negative: 237141\n",
      "[LightGBM] [Info] Auto-choosing row-wise multi-threading, the overhead of testing was 0.007445 seconds.\n",
      "You can set `force_row_wise=true` to remove the overhead.\n",
      "And if memory is not enough, you can set `force_col_wise=true`.\n",
      "[LightGBM] [Info] Total Bins 2262\n",
      "[LightGBM] [Info] Number of data points in the train set: 261836, number of used features: 18\n",
      "[LightGBM] [Info] [binary:BoostFromScore]: pavg=0.094315 -> initscore=-2.262054\n",
      "[LightGBM] [Info] Start training from score -2.262054\n",
      "[LightGBM] [Warning] No further splits with positive gain, best gain: -inf\n",
      "[LightGBM] [Warning] No further splits with positive gain, best gain: -inf\n",
      "[LightGBM] [Warning] No further splits with positive gain, best gain: -inf\n",
      "Feature Importance:\n",
      "                  Feature  Importance\n",
      "12               distance         527\n",
      "9           timeLastEvent         450\n",
      "13                  angle         379\n",
      "14            gameSeconds         375\n",
      "3             coordinateY         347\n",
      "8            lastDistance         321\n",
      "2             coordinateX         317\n",
      "7         lastCoordinateY         302\n",
      "10                  speed         278\n",
      "6         lastCoordinateX         272\n",
      "1                shotType         265\n",
      "15            chang_angle         208\n",
      "5               lastEvent         140\n",
      "17  non_gardiens_adverses         114\n",
      "4                emptynet         102\n",
      "16   non_gardiens_amicaux          74\n",
      "0                  period          23\n",
      "11                rebound           0\n"
     ]
    }
   ],
   "source": [
    "lightgbm(\"IFT6758.2024-A04\", \"ligth_gbm\", \"Ligth GBM\", 0.1, 6, 150, X_train, y_train, X_val, y_val)"
   ]
  },
  {
   "cell_type": "code",
   "execution_count": 3,
   "id": "13c4919c-0b9a-4949-8b1b-998e4932ea78",
   "metadata": {},
   "outputs": [
    {
     "name": "stdout",
     "output_type": "stream",
     "text": [
      "Preprocessed data saved to ../data/Milestone2_data/Q4_train_processed.csv.csv\n"
     ]
    }
   ],
   "source": [
    "data = preprocess_data('../data/Milestone2_data/Q4_train.csv','../data/Milestone2_data/Q4_train_processed.csv')\n",
    "features = ['gameId', 'coordinateX', 'coordinateY', 'emptynet', 'lastCoordinateX',\n",
    "       'lastCoordinateY', 'lastDistance', 'timeLastEvent', 'speed', 'rebound',\n",
    "       'distance', 'angle', 'gameSeconds', 'chang_angle',\n",
    "       'shotType_1', 'shotType_2', 'shotType_3', 'shotType_4', 'shotType_5',\n",
    "       'shotType_6', 'lastEvent_1', 'lastEvent_2', 'lastEvent_3',\n",
    "       'lastEvent_4', 'lastEvent_5', 'lastEvent_6', 'lastEvent_7',\n",
    "       'lastEvent_8', 'lastEvent_9', 'lastEvent_10', 'lastEvent_11',\n",
    "       'lastEvent_12', 'lastEvent_13', 'period_2', 'period_3', 'period_4',\n",
    "       'period_5', 'period_6', 'period_7', 'period_8',\n",
    "       'non_gardiens_amicaux_3', 'non_gardiens_amicaux_4',\n",
    "       'non_gardiens_amicaux_5', 'non_gardiens_amicaux_6',\n",
    "       'non_gardiens_adverses_3', 'non_gardiens_adverses_4',\n",
    "       'non_gardiens_adverses_5', 'non_gardiens_adverses_6']\n",
    "target = ['isGoal']\n",
    "\n",
    "X_train, X_val, y_train, y_val = data_split(data, features, target)\n"
   ]
  },
  {
   "cell_type": "code",
   "execution_count": 4,
   "id": "2408c3f9-aa17-4c19-8d1c-024825a3bdfb",
   "metadata": {},
   "outputs": [
    {
     "name": "stderr",
     "output_type": "stream",
     "text": [
      "\u001b[34m\u001b[1mwandb\u001b[0m: Using wandb-core as the SDK backend.  Please refer to https://wandb.me/wandb-core for more information.\n",
      "\u001b[34m\u001b[1mwandb\u001b[0m: Currently logged in as: \u001b[33mthalia-cantero\u001b[0m (\u001b[33mthalia-cantero-udem\u001b[0m). Use \u001b[1m`wandb login --relogin`\u001b[0m to force relogin\n"
     ]
    },
    {
     "data": {
      "text/html": [
       "Tracking run with wandb version 0.18.7"
      ],
      "text/plain": [
       "<IPython.core.display.HTML object>"
      ]
     },
     "metadata": {},
     "output_type": "display_data"
    },
    {
     "data": {
      "text/html": [
       "Run data is saved locally in <code>/Users/thaliacantero/Documents/UdeM/2024 Automne/Science _de_donnes/Project/project-template/source/wandb/run-20241122_045724-yc34icmf</code>"
      ],
      "text/plain": [
       "<IPython.core.display.HTML object>"
      ]
     },
     "metadata": {},
     "output_type": "display_data"
    },
    {
     "data": {
      "text/html": [
       "Syncing run <strong><a href='https://wandb.ai/thalia-cantero-udem/IFT6758.2024-A04/runs/yc34icmf' target=\"_blank\">Random Forest</a></strong> to <a href='https://wandb.ai/thalia-cantero-udem/IFT6758.2024-A04' target=\"_blank\">Weights & Biases</a> (<a href='https://wandb.me/developer-guide' target=\"_blank\">docs</a>)<br/>"
      ],
      "text/plain": [
       "<IPython.core.display.HTML object>"
      ]
     },
     "metadata": {},
     "output_type": "display_data"
    },
    {
     "data": {
      "text/html": [
       " View project at <a href='https://wandb.ai/thalia-cantero-udem/IFT6758.2024-A04' target=\"_blank\">https://wandb.ai/thalia-cantero-udem/IFT6758.2024-A04</a>"
      ],
      "text/plain": [
       "<IPython.core.display.HTML object>"
      ]
     },
     "metadata": {},
     "output_type": "display_data"
    },
    {
     "data": {
      "text/html": [
       " View run at <a href='https://wandb.ai/thalia-cantero-udem/IFT6758.2024-A04/runs/yc34icmf' target=\"_blank\">https://wandb.ai/thalia-cantero-udem/IFT6758.2024-A04/runs/yc34icmf</a>"
      ],
      "text/plain": [
       "<IPython.core.display.HTML object>"
      ]
     },
     "metadata": {},
     "output_type": "display_data"
    },
    {
     "name": "stdout",
     "output_type": "stream",
     "text": [
      "Feature Importance:\n",
      "                    Feature    Importance\n",
      "10                 distance  1.990976e-01\n",
      "3                  emptynet  1.703523e-01\n",
      "47  non_gardiens_adverses_6  1.350764e-01\n",
      "7             timeLastEvent  7.687666e-02\n",
      "2               coordinateY  7.227593e-02\n",
      "1               coordinateX  5.604258e-02\n",
      "12              gameSeconds  3.473682e-02\n",
      "46  non_gardiens_adverses_5  3.103218e-02\n",
      "8                     speed  3.097729e-02\n",
      "11                    angle  2.577123e-02\n",
      "13              chang_angle  1.978561e-02\n",
      "6              lastDistance  1.879709e-02\n",
      "36                 period_5  1.276125e-02\n",
      "45  non_gardiens_adverses_4  1.227580e-02\n",
      "0                    gameId  1.105000e-02\n",
      "5           lastCoordinateY  1.059265e-02\n",
      "4           lastCoordinateX  1.044502e-02\n",
      "17               shotType_4  1.036439e-02\n",
      "31             lastEvent_12  6.767966e-03\n",
      "9                   rebound  6.222583e-03\n",
      "30             lastEvent_11  5.484110e-03\n",
      "42   non_gardiens_amicaux_5  4.775626e-03\n",
      "44  non_gardiens_adverses_3  3.983346e-03\n",
      "15               shotType_2  3.781692e-03\n",
      "34                 period_3  3.732709e-03\n",
      "25              lastEvent_6  2.903054e-03\n",
      "14               shotType_1  2.660729e-03\n",
      "19               shotType_6  2.583561e-03\n",
      "16               shotType_3  2.255167e-03\n",
      "35                 period_4  2.106949e-03\n",
      "18               shotType_5  1.911811e-03\n",
      "21              lastEvent_2  1.807777e-03\n",
      "26              lastEvent_7  1.742265e-03\n",
      "29             lastEvent_10  1.304696e-03\n",
      "33                 period_2  1.215245e-03\n",
      "41   non_gardiens_amicaux_4  1.152070e-03\n",
      "40   non_gardiens_amicaux_3  1.137706e-03\n",
      "23              lastEvent_4  9.983175e-04\n",
      "24              lastEvent_5  9.041094e-04\n",
      "43   non_gardiens_amicaux_6  7.585460e-04\n",
      "32             lastEvent_13  7.449164e-04\n",
      "27              lastEvent_8  3.128649e-04\n",
      "20              lastEvent_1  2.224570e-04\n",
      "22              lastEvent_3  1.288320e-04\n",
      "28              lastEvent_9  7.664007e-05\n",
      "39                 period_8  9.964965e-06\n",
      "38                 period_7  2.615254e-06\n",
      "37                 period_6  8.469644e-07\n"
     ]
    }
   ],
   "source": [
    "random_forest(\"IFT6758.2024-A04\", \"random_forest\", \"Random Forest\", 100, 10, X_train, y_train, X_val, y_val)"
   ]
  },
  {
   "cell_type": "code",
   "execution_count": 5,
   "id": "852c694f-e0d1-4517-b469-8e3c5b1d7f16",
   "metadata": {},
   "outputs": [
    {
     "data": {
      "text/html": [
       "Finishing last run (ID:yc34icmf) before initializing another..."
      ],
      "text/plain": [
       "<IPython.core.display.HTML object>"
      ]
     },
     "metadata": {},
     "output_type": "display_data"
    },
    {
     "data": {
      "text/html": [
       "\n",
       "    <style>\n",
       "        .wandb-row {\n",
       "            display: flex;\n",
       "            flex-direction: row;\n",
       "            flex-wrap: wrap;\n",
       "            justify-content: flex-start;\n",
       "            width: 100%;\n",
       "        }\n",
       "        .wandb-col {\n",
       "            display: flex;\n",
       "            flex-direction: column;\n",
       "            flex-basis: 100%;\n",
       "            flex: 1;\n",
       "            padding: 10px;\n",
       "        }\n",
       "    </style>\n",
       "<div class=\"wandb-row\"><div class=\"wandb-col\"><h3>Run history:</h3><br/><table class=\"wandb\"><tr><td>AUC</td><td>▁</td></tr><tr><td>Accuracy</td><td>▁</td></tr><tr><td>F1-Score</td><td>▁</td></tr><tr><td>Log Loss</td><td>▁</td></tr></table><br/></div><div class=\"wandb-col\"><h3>Run summary:</h3><br/><table class=\"wandb\"><tr><td>AUC</td><td>0.77858</td></tr><tr><td>Accuracy</td><td>0.90985</td></tr><tr><td>F1-Score</td><td>0.09619</td></tr><tr><td>Log Loss</td><td>0.2665</td></tr></table><br/></div></div>"
      ],
      "text/plain": [
       "<IPython.core.display.HTML object>"
      ]
     },
     "metadata": {},
     "output_type": "display_data"
    },
    {
     "data": {
      "text/html": [
       " View run <strong style=\"color:#cdcd00\">Random Forest</strong> at: <a href='https://wandb.ai/thalia-cantero-udem/IFT6758.2024-A04/runs/yc34icmf' target=\"_blank\">https://wandb.ai/thalia-cantero-udem/IFT6758.2024-A04/runs/yc34icmf</a><br/> View project at: <a href='https://wandb.ai/thalia-cantero-udem/IFT6758.2024-A04' target=\"_blank\">https://wandb.ai/thalia-cantero-udem/IFT6758.2024-A04</a><br/>Synced 5 W&B file(s), 0 media file(s), 10 artifact file(s) and 5 other file(s)"
      ],
      "text/plain": [
       "<IPython.core.display.HTML object>"
      ]
     },
     "metadata": {},
     "output_type": "display_data"
    },
    {
     "data": {
      "text/html": [
       "Find logs at: <code>./wandb/run-20241122_045724-yc34icmf/logs</code>"
      ],
      "text/plain": [
       "<IPython.core.display.HTML object>"
      ]
     },
     "metadata": {},
     "output_type": "display_data"
    },
    {
     "data": {
      "text/html": [
       "Successfully finished last run (ID:yc34icmf). Initializing new run:<br/>"
      ],
      "text/plain": [
       "<IPython.core.display.HTML object>"
      ]
     },
     "metadata": {},
     "output_type": "display_data"
    },
    {
     "data": {
      "text/html": [
       "Tracking run with wandb version 0.18.7"
      ],
      "text/plain": [
       "<IPython.core.display.HTML object>"
      ]
     },
     "metadata": {},
     "output_type": "display_data"
    },
    {
     "data": {
      "text/html": [
       "Run data is saved locally in <code>/Users/thaliacantero/Documents/UdeM/2024 Automne/Science _de_donnes/Project/project-template/source/wandb/run-20241122_045743-uh6nlhhz</code>"
      ],
      "text/plain": [
       "<IPython.core.display.HTML object>"
      ]
     },
     "metadata": {},
     "output_type": "display_data"
    },
    {
     "data": {
      "text/html": [
       "Syncing run <strong><a href='https://wandb.ai/thalia-cantero-udem/IFT6758.2024-A04/runs/uh6nlhhz' target=\"_blank\">Decision Tree</a></strong> to <a href='https://wandb.ai/thalia-cantero-udem/IFT6758.2024-A04' target=\"_blank\">Weights & Biases</a> (<a href='https://wandb.me/developer-guide' target=\"_blank\">docs</a>)<br/>"
      ],
      "text/plain": [
       "<IPython.core.display.HTML object>"
      ]
     },
     "metadata": {},
     "output_type": "display_data"
    },
    {
     "data": {
      "text/html": [
       " View project at <a href='https://wandb.ai/thalia-cantero-udem/IFT6758.2024-A04' target=\"_blank\">https://wandb.ai/thalia-cantero-udem/IFT6758.2024-A04</a>"
      ],
      "text/plain": [
       "<IPython.core.display.HTML object>"
      ]
     },
     "metadata": {},
     "output_type": "display_data"
    },
    {
     "data": {
      "text/html": [
       " View run at <a href='https://wandb.ai/thalia-cantero-udem/IFT6758.2024-A04/runs/uh6nlhhz' target=\"_blank\">https://wandb.ai/thalia-cantero-udem/IFT6758.2024-A04/runs/uh6nlhhz</a>"
      ],
      "text/plain": [
       "<IPython.core.display.HTML object>"
      ]
     },
     "metadata": {},
     "output_type": "display_data"
    },
    {
     "name": "stdout",
     "output_type": "stream",
     "text": [
      "Feature Importance:\n",
      "                    Feature  Importance\n",
      "3                  emptynet    0.468930\n",
      "10                 distance    0.437489\n",
      "7             timeLastEvent    0.085184\n",
      "12              gameSeconds    0.007589\n",
      "0                    gameId    0.000808\n",
      "37                 period_6    0.000000\n",
      "28              lastEvent_9    0.000000\n",
      "29             lastEvent_10    0.000000\n",
      "30             lastEvent_11    0.000000\n",
      "31             lastEvent_12    0.000000\n",
      "32             lastEvent_13    0.000000\n",
      "33                 period_2    0.000000\n",
      "34                 period_3    0.000000\n",
      "35                 period_4    0.000000\n",
      "36                 period_5    0.000000\n",
      "39                 period_8    0.000000\n",
      "38                 period_7    0.000000\n",
      "26              lastEvent_7    0.000000\n",
      "40   non_gardiens_amicaux_3    0.000000\n",
      "41   non_gardiens_amicaux_4    0.000000\n",
      "42   non_gardiens_amicaux_5    0.000000\n",
      "43   non_gardiens_amicaux_6    0.000000\n",
      "44  non_gardiens_adverses_3    0.000000\n",
      "45  non_gardiens_adverses_4    0.000000\n",
      "46  non_gardiens_adverses_5    0.000000\n",
      "27              lastEvent_8    0.000000\n",
      "24              lastEvent_5    0.000000\n",
      "25              lastEvent_6    0.000000\n",
      "14               shotType_1    0.000000\n",
      "2               coordinateY    0.000000\n",
      "4           lastCoordinateX    0.000000\n",
      "5           lastCoordinateY    0.000000\n",
      "6              lastDistance    0.000000\n",
      "8                     speed    0.000000\n",
      "9                   rebound    0.000000\n",
      "11                    angle    0.000000\n",
      "13              chang_angle    0.000000\n",
      "15               shotType_2    0.000000\n",
      "1               coordinateX    0.000000\n",
      "16               shotType_3    0.000000\n",
      "17               shotType_4    0.000000\n",
      "18               shotType_5    0.000000\n",
      "19               shotType_6    0.000000\n",
      "20              lastEvent_1    0.000000\n",
      "21              lastEvent_2    0.000000\n",
      "22              lastEvent_3    0.000000\n",
      "23              lastEvent_4    0.000000\n",
      "47  non_gardiens_adverses_6    0.000000\n"
     ]
    }
   ],
   "source": [
    "decision_tree(\"IFT6758.2024-A04\", \"decision_tree\", \"Decision Tree\", 3, X_train, y_train, X_val, y_val)"
   ]
  },
  {
   "cell_type": "code",
   "execution_count": 6,
   "id": "552b48a0-9b8c-4646-ba1d-8719ce3fd2ba",
   "metadata": {},
   "outputs": [
    {
     "data": {
      "text/html": [
       "Finishing last run (ID:uh6nlhhz) before initializing another..."
      ],
      "text/plain": [
       "<IPython.core.display.HTML object>"
      ]
     },
     "metadata": {},
     "output_type": "display_data"
    },
    {
     "data": {
      "text/html": [
       "\n",
       "    <style>\n",
       "        .wandb-row {\n",
       "            display: flex;\n",
       "            flex-direction: row;\n",
       "            flex-wrap: wrap;\n",
       "            justify-content: flex-start;\n",
       "            width: 100%;\n",
       "        }\n",
       "        .wandb-col {\n",
       "            display: flex;\n",
       "            flex-direction: column;\n",
       "            flex-basis: 100%;\n",
       "            flex: 1;\n",
       "            padding: 10px;\n",
       "        }\n",
       "    </style>\n",
       "<div class=\"wandb-row\"><div class=\"wandb-col\"><h3>Run history:</h3><br/><table class=\"wandb\"><tr><td>AUC</td><td>▁</td></tr><tr><td>Accuracy</td><td>▁</td></tr><tr><td>F1-Score</td><td>▁</td></tr><tr><td>Log Loss</td><td>▁</td></tr></table><br/></div><div class=\"wandb-col\"><h3>Run summary:</h3><br/><table class=\"wandb\"><tr><td>AUC</td><td>0.71361</td></tr><tr><td>Accuracy</td><td>0.90987</td></tr><tr><td>F1-Score</td><td>0.0962</td></tr><tr><td>Log Loss</td><td>0.2794</td></tr></table><br/></div></div>"
      ],
      "text/plain": [
       "<IPython.core.display.HTML object>"
      ]
     },
     "metadata": {},
     "output_type": "display_data"
    },
    {
     "data": {
      "text/html": [
       " View run <strong style=\"color:#cdcd00\">Decision Tree</strong> at: <a href='https://wandb.ai/thalia-cantero-udem/IFT6758.2024-A04/runs/uh6nlhhz' target=\"_blank\">https://wandb.ai/thalia-cantero-udem/IFT6758.2024-A04/runs/uh6nlhhz</a><br/> View project at: <a href='https://wandb.ai/thalia-cantero-udem/IFT6758.2024-A04' target=\"_blank\">https://wandb.ai/thalia-cantero-udem/IFT6758.2024-A04</a><br/>Synced 5 W&B file(s), 0 media file(s), 10 artifact file(s) and 5 other file(s)"
      ],
      "text/plain": [
       "<IPython.core.display.HTML object>"
      ]
     },
     "metadata": {},
     "output_type": "display_data"
    },
    {
     "data": {
      "text/html": [
       "Find logs at: <code>./wandb/run-20241122_045743-uh6nlhhz/logs</code>"
      ],
      "text/plain": [
       "<IPython.core.display.HTML object>"
      ]
     },
     "metadata": {},
     "output_type": "display_data"
    },
    {
     "data": {
      "text/html": [
       "Successfully finished last run (ID:uh6nlhhz). Initializing new run:<br/>"
      ],
      "text/plain": [
       "<IPython.core.display.HTML object>"
      ]
     },
     "metadata": {},
     "output_type": "display_data"
    },
    {
     "data": {
      "text/html": [
       "Tracking run with wandb version 0.18.7"
      ],
      "text/plain": [
       "<IPython.core.display.HTML object>"
      ]
     },
     "metadata": {},
     "output_type": "display_data"
    },
    {
     "data": {
      "text/html": [
       "Run data is saved locally in <code>/Users/thaliacantero/Documents/UdeM/2024 Automne/Science _de_donnes/Project/project-template/source/wandb/run-20241122_045750-vkno89an</code>"
      ],
      "text/plain": [
       "<IPython.core.display.HTML object>"
      ]
     },
     "metadata": {},
     "output_type": "display_data"
    },
    {
     "data": {
      "text/html": [
       "Syncing run <strong><a href='https://wandb.ai/thalia-cantero-udem/IFT6758.2024-A04/runs/vkno89an' target=\"_blank\">Ligth GBM</a></strong> to <a href='https://wandb.ai/thalia-cantero-udem/IFT6758.2024-A04' target=\"_blank\">Weights & Biases</a> (<a href='https://wandb.me/developer-guide' target=\"_blank\">docs</a>)<br/>"
      ],
      "text/plain": [
       "<IPython.core.display.HTML object>"
      ]
     },
     "metadata": {},
     "output_type": "display_data"
    },
    {
     "data": {
      "text/html": [
       " View project at <a href='https://wandb.ai/thalia-cantero-udem/IFT6758.2024-A04' target=\"_blank\">https://wandb.ai/thalia-cantero-udem/IFT6758.2024-A04</a>"
      ],
      "text/plain": [
       "<IPython.core.display.HTML object>"
      ]
     },
     "metadata": {},
     "output_type": "display_data"
    },
    {
     "data": {
      "text/html": [
       " View run at <a href='https://wandb.ai/thalia-cantero-udem/IFT6758.2024-A04/runs/vkno89an' target=\"_blank\">https://wandb.ai/thalia-cantero-udem/IFT6758.2024-A04/runs/vkno89an</a>"
      ],
      "text/plain": [
       "<IPython.core.display.HTML object>"
      ]
     },
     "metadata": {},
     "output_type": "display_data"
    },
    {
     "name": "stderr",
     "output_type": "stream",
     "text": [
      "/Users/thaliacantero/ift6758-venv/lib/python3.12/site-packages/sklearn/preprocessing/_label.py:97: DataConversionWarning: A column-vector y was passed when a 1d array was expected. Please change the shape of y to (n_samples, ), for example using ravel().\n",
      "  y = column_or_1d(y, warn=True)\n",
      "/Users/thaliacantero/ift6758-venv/lib/python3.12/site-packages/sklearn/preprocessing/_label.py:132: DataConversionWarning: A column-vector y was passed when a 1d array was expected. Please change the shape of y to (n_samples, ), for example using ravel().\n",
      "  y = column_or_1d(y, dtype=self.classes_.dtype, warn=True)\n"
     ]
    },
    {
     "name": "stdout",
     "output_type": "stream",
     "text": [
      "[LightGBM] [Info] Number of positive: 24695, number of negative: 237141\n",
      "[LightGBM] [Info] Auto-choosing row-wise multi-threading, the overhead of testing was 0.017257 seconds.\n",
      "You can set `force_row_wise=true` to remove the overhead.\n",
      "And if memory is not enough, you can set `force_col_wise=true`.\n",
      "[LightGBM] [Info] Total Bins 2536\n",
      "[LightGBM] [Info] Number of data points in the train set: 261836, number of used features: 44\n",
      "[LightGBM] [Info] [binary:BoostFromScore]: pavg=0.094315 -> initscore=-2.262054\n",
      "[LightGBM] [Info] Start training from score -2.262054\n",
      "[LightGBM] [Warning] No further splits with positive gain, best gain: -inf\n",
      "Feature Importance:\n",
      "                    Feature  Importance\n",
      "10                 distance         516\n",
      "7             timeLastEvent         417\n",
      "0                    gameId         392\n",
      "12              gameSeconds         348\n",
      "11                    angle         316\n",
      "2               coordinateY         293\n",
      "1               coordinateX         280\n",
      "5           lastCoordinateY         272\n",
      "6              lastDistance         271\n",
      "8                     speed         262\n",
      "4           lastCoordinateX         197\n",
      "13              chang_angle         180\n",
      "3                  emptynet          86\n",
      "15               shotType_2          76\n",
      "46  non_gardiens_adverses_5          64\n",
      "17               shotType_4          63\n",
      "14               shotType_1          61\n",
      "16               shotType_3          55\n",
      "19               shotType_6          55\n",
      "25              lastEvent_6          42\n",
      "26              lastEvent_7          31\n",
      "18               shotType_5          25\n",
      "31             lastEvent_12          25\n",
      "23              lastEvent_4          19\n",
      "43   non_gardiens_amicaux_6          17\n",
      "45  non_gardiens_adverses_4          16\n",
      "21              lastEvent_2          15\n",
      "41   non_gardiens_amicaux_4          15\n",
      "32             lastEvent_13          14\n",
      "42   non_gardiens_amicaux_5          13\n",
      "33                 period_2          12\n",
      "44  non_gardiens_adverses_3          11\n",
      "34                 period_3          10\n",
      "40   non_gardiens_amicaux_3           8\n",
      "36                 period_5           4\n",
      "24              lastEvent_5           4\n",
      "27              lastEvent_8           4\n",
      "9                   rebound           4\n",
      "28              lastEvent_9           2\n",
      "29             lastEvent_10           1\n",
      "20              lastEvent_1           1\n",
      "47  non_gardiens_adverses_6           1\n",
      "35                 period_4           0\n",
      "37                 period_6           0\n",
      "38                 period_7           0\n",
      "39                 period_8           0\n",
      "30             lastEvent_11           0\n",
      "22              lastEvent_3           0\n"
     ]
    }
   ],
   "source": [
    "lightgbm(\"IFT6758.2024-A04\", \"ligth_gbm\", \"Ligth GBM\", 0.1, 6, 150, X_train, y_train, X_val, y_val)"
   ]
  },
  {
   "cell_type": "code",
   "execution_count": 7,
   "id": "1c0dee00-5fc2-449d-b4fe-a59be5969c17",
   "metadata": {},
   "outputs": [
    {
     "data": {
      "text/html": [
       "Finishing last run (ID:vkno89an) before initializing another..."
      ],
      "text/plain": [
       "<IPython.core.display.HTML object>"
      ]
     },
     "metadata": {},
     "output_type": "display_data"
    },
    {
     "data": {
      "text/html": [
       "\n",
       "    <style>\n",
       "        .wandb-row {\n",
       "            display: flex;\n",
       "            flex-direction: row;\n",
       "            flex-wrap: wrap;\n",
       "            justify-content: flex-start;\n",
       "            width: 100%;\n",
       "        }\n",
       "        .wandb-col {\n",
       "            display: flex;\n",
       "            flex-direction: column;\n",
       "            flex-basis: 100%;\n",
       "            flex: 1;\n",
       "            padding: 10px;\n",
       "        }\n",
       "    </style>\n",
       "<div class=\"wandb-row\"><div class=\"wandb-col\"><h3>Run history:</h3><br/><table class=\"wandb\"><tr><td>AUC</td><td>▁</td></tr><tr><td>Accuracy</td><td>▁</td></tr><tr><td>F1-Score</td><td>▁</td></tr><tr><td>Log Loss</td><td>▁</td></tr></table><br/></div><div class=\"wandb-col\"><h3>Run summary:</h3><br/><table class=\"wandb\"><tr><td>AUC</td><td>0.79117</td></tr><tr><td>Accuracy</td><td>0.91034</td></tr><tr><td>F1-Score</td><td>0.13013</td></tr><tr><td>Log Loss</td><td>0.2578</td></tr></table><br/></div></div>"
      ],
      "text/plain": [
       "<IPython.core.display.HTML object>"
      ]
     },
     "metadata": {},
     "output_type": "display_data"
    },
    {
     "data": {
      "text/html": [
       " View run <strong style=\"color:#cdcd00\">Ligth GBM</strong> at: <a href='https://wandb.ai/thalia-cantero-udem/IFT6758.2024-A04/runs/vkno89an' target=\"_blank\">https://wandb.ai/thalia-cantero-udem/IFT6758.2024-A04/runs/vkno89an</a><br/> View project at: <a href='https://wandb.ai/thalia-cantero-udem/IFT6758.2024-A04' target=\"_blank\">https://wandb.ai/thalia-cantero-udem/IFT6758.2024-A04</a><br/>Synced 5 W&B file(s), 0 media file(s), 10 artifact file(s) and 5 other file(s)"
      ],
      "text/plain": [
       "<IPython.core.display.HTML object>"
      ]
     },
     "metadata": {},
     "output_type": "display_data"
    },
    {
     "data": {
      "text/html": [
       "Find logs at: <code>./wandb/run-20241122_045750-vkno89an/logs</code>"
      ],
      "text/plain": [
       "<IPython.core.display.HTML object>"
      ]
     },
     "metadata": {},
     "output_type": "display_data"
    },
    {
     "data": {
      "text/html": [
       "Successfully finished last run (ID:vkno89an). Initializing new run:<br/>"
      ],
      "text/plain": [
       "<IPython.core.display.HTML object>"
      ]
     },
     "metadata": {},
     "output_type": "display_data"
    },
    {
     "data": {
      "text/html": [
       "Tracking run with wandb version 0.18.7"
      ],
      "text/plain": [
       "<IPython.core.display.HTML object>"
      ]
     },
     "metadata": {},
     "output_type": "display_data"
    },
    {
     "data": {
      "text/html": [
       "Run data is saved locally in <code>/Users/thaliacantero/Documents/UdeM/2024 Automne/Science _de_donnes/Project/project-template/source/wandb/run-20241122_045757-5ocbkw47</code>"
      ],
      "text/plain": [
       "<IPython.core.display.HTML object>"
      ]
     },
     "metadata": {},
     "output_type": "display_data"
    },
    {
     "data": {
      "text/html": [
       "Syncing run <strong><a href='https://wandb.ai/thalia-cantero-udem/IFT6758.2024-A04/runs/5ocbkw47' target=\"_blank\">XG BOOST</a></strong> to <a href='https://wandb.ai/thalia-cantero-udem/IFT6758.2024-A04' target=\"_blank\">Weights & Biases</a> (<a href='https://wandb.me/developer-guide' target=\"_blank\">docs</a>)<br/>"
      ],
      "text/plain": [
       "<IPython.core.display.HTML object>"
      ]
     },
     "metadata": {},
     "output_type": "display_data"
    },
    {
     "data": {
      "text/html": [
       " View project at <a href='https://wandb.ai/thalia-cantero-udem/IFT6758.2024-A04' target=\"_blank\">https://wandb.ai/thalia-cantero-udem/IFT6758.2024-A04</a>"
      ],
      "text/plain": [
       "<IPython.core.display.HTML object>"
      ]
     },
     "metadata": {},
     "output_type": "display_data"
    },
    {
     "data": {
      "text/html": [
       " View run at <a href='https://wandb.ai/thalia-cantero-udem/IFT6758.2024-A04/runs/5ocbkw47' target=\"_blank\">https://wandb.ai/thalia-cantero-udem/IFT6758.2024-A04/runs/5ocbkw47</a>"
      ],
      "text/plain": [
       "<IPython.core.display.HTML object>"
      ]
     },
     "metadata": {},
     "output_type": "display_data"
    },
    {
     "name": "stderr",
     "output_type": "stream",
     "text": [
      "/Users/thaliacantero/ift6758-venv/lib/python3.12/site-packages/xgboost/core.py:158: UserWarning: [04:58:00] WARNING: /Users/runner/work/xgboost/xgboost/src/learner.cc:740: \n",
      "Parameters: { \"use_label_encoder\" } are not used.\n",
      "\n",
      "  warnings.warn(smsg, UserWarning)\n"
     ]
    },
    {
     "name": "stdout",
     "output_type": "stream",
     "text": [
      "Feature Importance:\n",
      "                    Feature  Importance\n",
      "3                  emptynet    0.257208\n",
      "10                 distance    0.127954\n",
      "8                     speed    0.065216\n",
      "46  non_gardiens_adverses_5    0.060754\n",
      "2               coordinateY    0.046220\n",
      "7             timeLastEvent    0.039291\n",
      "18               shotType_5    0.036611\n",
      "36                 period_5    0.036569\n",
      "16               shotType_3    0.027154\n",
      "11                    angle    0.023039\n",
      "19               shotType_6    0.022639\n",
      "25              lastEvent_6    0.021379\n",
      "15               shotType_2    0.019163\n",
      "13              chang_angle    0.017379\n",
      "31             lastEvent_12    0.017122\n",
      "23              lastEvent_4    0.016606\n",
      "26              lastEvent_7    0.016188\n",
      "42   non_gardiens_amicaux_5    0.014592\n",
      "43   non_gardiens_amicaux_6    0.013410\n",
      "17               shotType_4    0.011509\n",
      "14               shotType_1    0.011497\n",
      "32             lastEvent_13    0.009926\n",
      "45  non_gardiens_adverses_4    0.009364\n",
      "40   non_gardiens_amicaux_3    0.008260\n",
      "6              lastDistance    0.007385\n",
      "5           lastCoordinateY    0.007217\n",
      "9                   rebound    0.006974\n",
      "44  non_gardiens_adverses_3    0.006933\n",
      "41   non_gardiens_amicaux_4    0.006727\n",
      "0                    gameId    0.006445\n",
      "1               coordinateX    0.005779\n",
      "12              gameSeconds    0.004646\n",
      "21              lastEvent_2    0.004095\n",
      "24              lastEvent_5    0.003992\n",
      "33                 period_2    0.003785\n",
      "4           lastCoordinateX    0.003381\n",
      "34                 period_3    0.002037\n",
      "27              lastEvent_8    0.001117\n",
      "28              lastEvent_9    0.000436\n",
      "35                 period_4    0.000000\n",
      "37                 period_6    0.000000\n",
      "38                 period_7    0.000000\n",
      "39                 period_8    0.000000\n",
      "30             lastEvent_11    0.000000\n",
      "29             lastEvent_10    0.000000\n",
      "22              lastEvent_3    0.000000\n",
      "20              lastEvent_1    0.000000\n",
      "47  non_gardiens_adverses_6    0.000000\n"
     ]
    }
   ],
   "source": [
    "xg_boost(\"IFT6758.2024-A04\", \"xg_boost\", \"XG BOOST\", 100, 0.1, 5, X_train, y_train, X_val, y_val)"
   ]
  },
  {
   "cell_type": "code",
   "execution_count": 8,
   "id": "3eb20889-311e-4c6d-8025-ab33cf54f95e",
   "metadata": {},
   "outputs": [
    {
     "data": {
      "text/html": [
       "Finishing last run (ID:5ocbkw47) before initializing another..."
      ],
      "text/plain": [
       "<IPython.core.display.HTML object>"
      ]
     },
     "metadata": {},
     "output_type": "display_data"
    },
    {
     "data": {
      "text/html": [
       "\n",
       "    <style>\n",
       "        .wandb-row {\n",
       "            display: flex;\n",
       "            flex-direction: row;\n",
       "            flex-wrap: wrap;\n",
       "            justify-content: flex-start;\n",
       "            width: 100%;\n",
       "        }\n",
       "        .wandb-col {\n",
       "            display: flex;\n",
       "            flex-direction: column;\n",
       "            flex-basis: 100%;\n",
       "            flex: 1;\n",
       "            padding: 10px;\n",
       "        }\n",
       "    </style>\n",
       "<div class=\"wandb-row\"><div class=\"wandb-col\"><h3>Run history:</h3><br/><table class=\"wandb\"><tr><td>AUC</td><td>▁</td></tr><tr><td>Accuracy</td><td>▁</td></tr><tr><td>F1-Score</td><td>▁</td></tr><tr><td>Log Loss</td><td>▁</td></tr></table><br/></div><div class=\"wandb-col\"><h3>Run summary:</h3><br/><table class=\"wandb\"><tr><td>AUC</td><td>0.79017</td></tr><tr><td>Accuracy</td><td>0.91016</td></tr><tr><td>F1-Score</td><td>0.11391</td></tr><tr><td>Log Loss</td><td>0.25853</td></tr></table><br/></div></div>"
      ],
      "text/plain": [
       "<IPython.core.display.HTML object>"
      ]
     },
     "metadata": {},
     "output_type": "display_data"
    },
    {
     "data": {
      "text/html": [
       " View run <strong style=\"color:#cdcd00\">XG BOOST</strong> at: <a href='https://wandb.ai/thalia-cantero-udem/IFT6758.2024-A04/runs/5ocbkw47' target=\"_blank\">https://wandb.ai/thalia-cantero-udem/IFT6758.2024-A04/runs/5ocbkw47</a><br/> View project at: <a href='https://wandb.ai/thalia-cantero-udem/IFT6758.2024-A04' target=\"_blank\">https://wandb.ai/thalia-cantero-udem/IFT6758.2024-A04</a><br/>Synced 5 W&B file(s), 0 media file(s), 10 artifact file(s) and 5 other file(s)"
      ],
      "text/plain": [
       "<IPython.core.display.HTML object>"
      ]
     },
     "metadata": {},
     "output_type": "display_data"
    },
    {
     "data": {
      "text/html": [
       "Find logs at: <code>./wandb/run-20241122_045757-5ocbkw47/logs</code>"
      ],
      "text/plain": [
       "<IPython.core.display.HTML object>"
      ]
     },
     "metadata": {},
     "output_type": "display_data"
    },
    {
     "data": {
      "text/html": [
       "Successfully finished last run (ID:5ocbkw47). Initializing new run:<br/>"
      ],
      "text/plain": [
       "<IPython.core.display.HTML object>"
      ]
     },
     "metadata": {},
     "output_type": "display_data"
    },
    {
     "data": {
      "text/html": [
       "Tracking run with wandb version 0.18.7"
      ],
      "text/plain": [
       "<IPython.core.display.HTML object>"
      ]
     },
     "metadata": {},
     "output_type": "display_data"
    },
    {
     "data": {
      "text/html": [
       "Run data is saved locally in <code>/Users/thaliacantero/Documents/UdeM/2024 Automne/Science _de_donnes/Project/project-template/source/wandb/run-20241122_045804-j9vu3yc8</code>"
      ],
      "text/plain": [
       "<IPython.core.display.HTML object>"
      ]
     },
     "metadata": {},
     "output_type": "display_data"
    },
    {
     "data": {
      "text/html": [
       "Syncing run <strong><a href='https://wandb.ai/thalia-cantero-udem/IFT6758.2024-A04/runs/j9vu3yc8' target=\"_blank\">Cat Boost</a></strong> to <a href='https://wandb.ai/thalia-cantero-udem/IFT6758.2024-A04' target=\"_blank\">Weights & Biases</a> (<a href='https://wandb.me/developer-guide' target=\"_blank\">docs</a>)<br/>"
      ],
      "text/plain": [
       "<IPython.core.display.HTML object>"
      ]
     },
     "metadata": {},
     "output_type": "display_data"
    },
    {
     "data": {
      "text/html": [
       " View project at <a href='https://wandb.ai/thalia-cantero-udem/IFT6758.2024-A04' target=\"_blank\">https://wandb.ai/thalia-cantero-udem/IFT6758.2024-A04</a>"
      ],
      "text/plain": [
       "<IPython.core.display.HTML object>"
      ]
     },
     "metadata": {},
     "output_type": "display_data"
    },
    {
     "data": {
      "text/html": [
       " View run at <a href='https://wandb.ai/thalia-cantero-udem/IFT6758.2024-A04/runs/j9vu3yc8' target=\"_blank\">https://wandb.ai/thalia-cantero-udem/IFT6758.2024-A04/runs/j9vu3yc8</a>"
      ],
      "text/plain": [
       "<IPython.core.display.HTML object>"
      ]
     },
     "metadata": {},
     "output_type": "display_data"
    },
    {
     "name": "stdout",
     "output_type": "stream",
     "text": [
      "Feature Importance:\n",
      "                    Feature  Importance\n",
      "10                 distance   28.655633\n",
      "7             timeLastEvent   18.318787\n",
      "8                     speed   14.552913\n",
      "3                  emptynet    6.307300\n",
      "6              lastDistance    5.605882\n",
      "2               coordinateY    4.510786\n",
      "11                    angle    4.117584\n",
      "47  non_gardiens_adverses_6    3.974704\n",
      "46  non_gardiens_adverses_5    2.358114\n",
      "15               shotType_2    1.396451\n",
      "1               coordinateX    1.026740\n",
      "13              chang_angle    0.983309\n",
      "16               shotType_3    0.883746\n",
      "12              gameSeconds    0.742266\n",
      "0                    gameId    0.735929\n",
      "19               shotType_6    0.681911\n",
      "5           lastCoordinateY    0.634007\n",
      "31             lastEvent_12    0.615668\n",
      "45  non_gardiens_adverses_4    0.513550\n",
      "25              lastEvent_6    0.496271\n",
      "18               shotType_5    0.470783\n",
      "14               shotType_1    0.338326\n",
      "17               shotType_4    0.334713\n",
      "4           lastCoordinateX    0.267615\n",
      "9                   rebound    0.220582\n",
      "26              lastEvent_7    0.218134\n",
      "30             lastEvent_11    0.199800\n",
      "42   non_gardiens_amicaux_5    0.188379\n",
      "44  non_gardiens_adverses_3    0.118993\n",
      "36                 period_5    0.080229\n",
      "41   non_gardiens_amicaux_4    0.078831\n",
      "43   non_gardiens_amicaux_6    0.063401\n",
      "24              lastEvent_5    0.055676\n",
      "33                 period_2    0.049161\n",
      "32             lastEvent_13    0.038592\n",
      "40   non_gardiens_amicaux_3    0.026650\n",
      "28              lastEvent_9    0.022999\n",
      "34                 period_3    0.022185\n",
      "27              lastEvent_8    0.021335\n",
      "23              lastEvent_4    0.021008\n",
      "29             lastEvent_10    0.016053\n",
      "35                 period_4    0.013553\n",
      "21              lastEvent_2    0.012205\n",
      "22              lastEvent_3    0.008052\n",
      "20              lastEvent_1    0.000534\n",
      "37                 period_6    0.000368\n",
      "39                 period_8    0.000291\n",
      "38                 period_7    0.000000\n"
     ]
    }
   ],
   "source": [
    "cat_boost(\"IFT6758.2024-A04\", \"cat_boost\", \"Cat Boost\", 150, 0.1, 6, X_train, y_train, X_val, y_val)"
   ]
  },
  {
   "cell_type": "code",
   "execution_count": 9,
   "id": "c294a268-0624-401a-a8f6-6c4756fd3f34",
   "metadata": {},
   "outputs": [
    {
     "data": {
      "text/html": [
       "Finishing last run (ID:j9vu3yc8) before initializing another..."
      ],
      "text/plain": [
       "<IPython.core.display.HTML object>"
      ]
     },
     "metadata": {},
     "output_type": "display_data"
    },
    {
     "data": {
      "text/html": [
       "\n",
       "    <style>\n",
       "        .wandb-row {\n",
       "            display: flex;\n",
       "            flex-direction: row;\n",
       "            flex-wrap: wrap;\n",
       "            justify-content: flex-start;\n",
       "            width: 100%;\n",
       "        }\n",
       "        .wandb-col {\n",
       "            display: flex;\n",
       "            flex-direction: column;\n",
       "            flex-basis: 100%;\n",
       "            flex: 1;\n",
       "            padding: 10px;\n",
       "        }\n",
       "    </style>\n",
       "<div class=\"wandb-row\"><div class=\"wandb-col\"><h3>Run history:</h3><br/><table class=\"wandb\"><tr><td>AUC</td><td>▁</td></tr><tr><td>Accuracy</td><td>▁</td></tr><tr><td>F1-Score</td><td>▁</td></tr><tr><td>Log Loss</td><td>▁</td></tr></table><br/></div><div class=\"wandb-col\"><h3>Run summary:</h3><br/><table class=\"wandb\"><tr><td>AUC</td><td>0.7896</td></tr><tr><td>Accuracy</td><td>0.91019</td></tr><tr><td>F1-Score</td><td>0.11899</td></tr><tr><td>Log Loss</td><td>0.25885</td></tr></table><br/></div></div>"
      ],
      "text/plain": [
       "<IPython.core.display.HTML object>"
      ]
     },
     "metadata": {},
     "output_type": "display_data"
    },
    {
     "data": {
      "text/html": [
       " View run <strong style=\"color:#cdcd00\">Cat Boost</strong> at: <a href='https://wandb.ai/thalia-cantero-udem/IFT6758.2024-A04/runs/j9vu3yc8' target=\"_blank\">https://wandb.ai/thalia-cantero-udem/IFT6758.2024-A04/runs/j9vu3yc8</a><br/> View project at: <a href='https://wandb.ai/thalia-cantero-udem/IFT6758.2024-A04' target=\"_blank\">https://wandb.ai/thalia-cantero-udem/IFT6758.2024-A04</a><br/>Synced 5 W&B file(s), 0 media file(s), 10 artifact file(s) and 5 other file(s)"
      ],
      "text/plain": [
       "<IPython.core.display.HTML object>"
      ]
     },
     "metadata": {},
     "output_type": "display_data"
    },
    {
     "data": {
      "text/html": [
       "Find logs at: <code>./wandb/run-20241122_045804-j9vu3yc8/logs</code>"
      ],
      "text/plain": [
       "<IPython.core.display.HTML object>"
      ]
     },
     "metadata": {},
     "output_type": "display_data"
    },
    {
     "data": {
      "text/html": [
       "Successfully finished last run (ID:j9vu3yc8). Initializing new run:<br/>"
      ],
      "text/plain": [
       "<IPython.core.display.HTML object>"
      ]
     },
     "metadata": {},
     "output_type": "display_data"
    },
    {
     "data": {
      "text/html": [
       "Tracking run with wandb version 0.18.7"
      ],
      "text/plain": [
       "<IPython.core.display.HTML object>"
      ]
     },
     "metadata": {},
     "output_type": "display_data"
    },
    {
     "data": {
      "text/html": [
       "Run data is saved locally in <code>/Users/thaliacantero/Documents/UdeM/2024 Automne/Science _de_donnes/Project/project-template/source/wandb/run-20241122_045812-4cg5badj</code>"
      ],
      "text/plain": [
       "<IPython.core.display.HTML object>"
      ]
     },
     "metadata": {},
     "output_type": "display_data"
    },
    {
     "data": {
      "text/html": [
       "Syncing run <strong><a href='https://wandb.ai/thalia-cantero-udem/IFT6758.2024-A04/runs/4cg5badj' target=\"_blank\">KNN</a></strong> to <a href='https://wandb.ai/thalia-cantero-udem/IFT6758.2024-A04' target=\"_blank\">Weights & Biases</a> (<a href='https://wandb.me/developer-guide' target=\"_blank\">docs</a>)<br/>"
      ],
      "text/plain": [
       "<IPython.core.display.HTML object>"
      ]
     },
     "metadata": {},
     "output_type": "display_data"
    },
    {
     "data": {
      "text/html": [
       " View project at <a href='https://wandb.ai/thalia-cantero-udem/IFT6758.2024-A04' target=\"_blank\">https://wandb.ai/thalia-cantero-udem/IFT6758.2024-A04</a>"
      ],
      "text/plain": [
       "<IPython.core.display.HTML object>"
      ]
     },
     "metadata": {},
     "output_type": "display_data"
    },
    {
     "data": {
      "text/html": [
       " View run at <a href='https://wandb.ai/thalia-cantero-udem/IFT6758.2024-A04/runs/4cg5badj' target=\"_blank\">https://wandb.ai/thalia-cantero-udem/IFT6758.2024-A04/runs/4cg5badj</a>"
      ],
      "text/plain": [
       "<IPython.core.display.HTML object>"
      ]
     },
     "metadata": {},
     "output_type": "display_data"
    },
    {
     "name": "stderr",
     "output_type": "stream",
     "text": [
      "/Users/thaliacantero/ift6758-venv/lib/python3.12/site-packages/sklearn/neighbors/_classification.py:238: DataConversionWarning: A column-vector y was passed when a 1d array was expected. Please change the shape of y to (n_samples,), for example using ravel().\n",
      "  return self._fit(X, y)\n"
     ]
    }
   ],
   "source": [
    "knn(\"IFT6758.2024-A04\", \"knn\", \"KNN\", 5, X_train, y_train, X_val, y_val)"
   ]
  },
  {
   "cell_type": "code",
   "execution_count": 10,
   "id": "fdd3a340-e714-4acb-8226-b3b57daa27b3",
   "metadata": {},
   "outputs": [
    {
     "name": "stdout",
     "output_type": "stream",
     "text": [
      "Best Parameters for CatBoost: {'depth': 6, 'iterations': 300, 'learning_rate': 0.1}\n"
     ]
    }
   ],
   "source": [
    "from catboost import CatBoostClassifier\n",
    "from sklearn.model_selection import GridSearchCV\n",
    "\n",
    "# Define parameter grid\n",
    "catboost_param_grid = {\n",
    "    \"iterations\": [100, 200, 300],\n",
    "    \"learning_rate\": [0.01, 0.05, 0.1],\n",
    "    \"depth\": [4, 6, 8]\n",
    "}\n",
    "\n",
    "# Initialize CatBoostClassifier\n",
    "catboost_model = CatBoostClassifier(verbose=0, random_state=42)\n",
    "\n",
    "# Perform grid search\n",
    "catboost_grid = GridSearchCV(catboost_model, catboost_param_grid, cv=3, scoring=\"roc_auc\")\n",
    "catboost_grid.fit(X_train, y_train)\n",
    "\n",
    "# Best model and parameters\n",
    "catboost_best_model = catboost_grid.best_estimator_\n",
    "print(\"Best Parameters for CatBoost:\", catboost_grid.best_params_)\n"
   ]
  },
  {
   "cell_type": "code",
   "execution_count": null,
   "id": "c7cfde61-4e6b-4fbb-9117-57fcd495b87b",
   "metadata": {},
   "outputs": [],
   "source": [
    "import xgboost as xgb\n",
    "from sklearn.model_selection import GridSearchCV\n",
    "\n",
    "# Define parameter grid\n",
    "xgboost_param_grid = {\n",
    "    \"n_estimators\": [100, 200, 300],\n",
    "    \"learning_rate\": [0.01, 0.05, 0.1],\n",
    "    \"max_depth\": [4, 6, 8]\n",
    "}\n",
    "\n",
    "# Initialize XGBoostClassifier\n",
    "xgboost_model = xgb.XGBClassifier(random_state=42, use_label_encoder=False, verbosity=0)\n",
    "\n",
    "# Perform grid search\n",
    "xgboost_grid = GridSearchCV(xgboost_model, xgboost_param_grid, cv=3, scoring=\"roc_auc\")\n",
    "xgboost_grid.fit(X_train, y_train)\n",
    "\n",
    "# Best model and parameters\n",
    "xgboost_best_model = xgboost_grid.best_estimator_\n",
    "print(\"Best Parameters for XGBoost:\", xgboost_grid.best_params_)\n"
   ]
  },
  {
   "cell_type": "code",
   "execution_count": null,
   "id": "85b228b0-7544-4f6f-a1ea-a5e54a6b9678",
   "metadata": {},
   "outputs": [],
   "source": [
    "import lightgbm as lgb\n",
    "from sklearn.model_selection import GridSearchCV\n",
    "\n",
    "# Define parameter grid\n",
    "lightgbm_param_grid = {\n",
    "    \"n_estimators\": [100, 200, 300],\n",
    "    \"learning_rate\": [0.01, 0.05, 0.1],\n",
    "    \"max_depth\": [4, 6, 8]\n",
    "}\n",
    "\n",
    "# Initialize LGBMClassifier\n",
    "lightgbm_model = lgb.LGBMClassifier(random_state=42)\n",
    "\n",
    "# Perform grid search\n",
    "lightgbm_grid = GridSearchCV(lightgbm_model, lightgbm_param_grid, cv=3, scoring=\"roc_auc\")\n",
    "lightgbm_grid.fit(X_train, y_train)\n",
    "\n",
    "# Best model and parameters\n",
    "lightgbm_best_model = lightgbm_grid.best_estimator_\n",
    "print(\"Best Parameters for LightGBM:\", lightgbm_grid.best_params_)\n"
   ]
  },
  {
   "cell_type": "code",
   "execution_count": null,
   "id": "b2624237-e2f9-4186-a9f1-56397baaed17",
   "metadata": {},
   "outputs": [],
   "source": [
    "from sklearn.metrics import roc_auc_score\n",
    "\n",
    "# Evaluate CatBoost\n",
    "y_pred_catboost = catboost_best_model.predict_proba(X_val)[:, 1]\n",
    "catboost_auc = roc_auc_score(y_val, y_pred_catboost)\n",
    "print(f\"CatBoost AUC: {catboost_auc}\")\n",
    "\n",
    "# Evaluate LightGBM\n",
    "y_pred_lightgbm = lightgbm_best_model.predict_proba(X_val)[:, 1]\n",
    "lightgbm_auc = roc_auc_score(y_val, y_pred_lightgbm)\n",
    "print(f\"LightGBM AUC: {lightgbm_auc}\")\n",
    "\n",
    "# Evaluate XGBoost\n",
    "y_pred_xgboost = xgboost_best_model.predict_proba(X_val)[:, 1]\n",
    "xgboost_auc = roc_auc_score(y_val, y_pred_xgboost)\n",
    "print(f\"XGBoost AUC: {xgboost_auc}\")\n"
   ]
  },
  {
   "cell_type": "code",
   "execution_count": null,
   "id": "d97aecbb-70f8-4166-83d7-93e6b49cc946",
   "metadata": {},
   "outputs": [],
   "source": [
    "import wandb\n",
    "\n",
    "# Initialize WandB\n",
    "wandb.init(project=\"xG-best-model\", job_type=\"hyperparameter_tuning\")\n",
    "\n",
    "# Log results\n",
    "wandb.log({\n",
    "    \"CatBoost AUC\": catboost_auc,\n",
    "    \"LightGBM AUC\": lightgbm_auc,\n",
    "    \"XGBoost AUC\": xgboost_auc,\n",
    "    \"Best Parameters for CatBoost\": catboost_grid.best_params_,\n",
    "    \"Best Parameters for LightGBM\": lightgbm_grid.best_params_,\n",
    "    \"Best Parameters for XGBoost\": xgboost_grid.best_params_\n",
    "})\n",
    "\n",
    "wandb.finish()\n"
   ]
  },
  {
   "cell_type": "code",
   "execution_count": 11,
   "id": "90380f7a-fbf9-4580-979a-9512494c62b1",
   "metadata": {},
   "outputs": [
    {
     "data": {
      "text/html": [
       "Finishing last run (ID:4cg5badj) before initializing another..."
      ],
      "text/plain": [
       "<IPython.core.display.HTML object>"
      ]
     },
     "metadata": {},
     "output_type": "display_data"
    },
    {
     "data": {
      "text/html": [
       "\n",
       "    <style>\n",
       "        .wandb-row {\n",
       "            display: flex;\n",
       "            flex-direction: row;\n",
       "            flex-wrap: wrap;\n",
       "            justify-content: flex-start;\n",
       "            width: 100%;\n",
       "        }\n",
       "        .wandb-col {\n",
       "            display: flex;\n",
       "            flex-direction: column;\n",
       "            flex-basis: 100%;\n",
       "            flex: 1;\n",
       "            padding: 10px;\n",
       "        }\n",
       "    </style>\n",
       "<div class=\"wandb-row\"><div class=\"wandb-col\"><h3>Run history:</h3><br/><table class=\"wandb\"><tr><td>AUC</td><td>▁</td></tr><tr><td>Accuracy</td><td>▁</td></tr><tr><td>F1-Score</td><td>▁</td></tr><tr><td>Log Loss</td><td>▁</td></tr></table><br/></div><div class=\"wandb-col\"><h3>Run summary:</h3><br/><table class=\"wandb\"><tr><td>AUC</td><td>0.55422</td></tr><tr><td>Accuracy</td><td>0.89659</td></tr><tr><td>F1-Score</td><td>0.05103</td></tr><tr><td>Log Loss</td><td>1.9081</td></tr></table><br/></div></div>"
      ],
      "text/plain": [
       "<IPython.core.display.HTML object>"
      ]
     },
     "metadata": {},
     "output_type": "display_data"
    },
    {
     "data": {
      "text/html": [
       " View run <strong style=\"color:#cdcd00\">KNN</strong> at: <a href='https://wandb.ai/thalia-cantero-udem/IFT6758.2024-A04/runs/4cg5badj' target=\"_blank\">https://wandb.ai/thalia-cantero-udem/IFT6758.2024-A04/runs/4cg5badj</a><br/> View project at: <a href='https://wandb.ai/thalia-cantero-udem/IFT6758.2024-A04' target=\"_blank\">https://wandb.ai/thalia-cantero-udem/IFT6758.2024-A04</a><br/>Synced 5 W&B file(s), 0 media file(s), 10 artifact file(s) and 4 other file(s)"
      ],
      "text/plain": [
       "<IPython.core.display.HTML object>"
      ]
     },
     "metadata": {},
     "output_type": "display_data"
    },
    {
     "data": {
      "text/html": [
       "Find logs at: <code>./wandb/run-20241122_045812-4cg5badj/logs</code>"
      ],
      "text/plain": [
       "<IPython.core.display.HTML object>"
      ]
     },
     "metadata": {},
     "output_type": "display_data"
    },
    {
     "data": {
      "text/html": [
       "Successfully finished last run (ID:4cg5badj). Initializing new run:<br/>"
      ],
      "text/plain": [
       "<IPython.core.display.HTML object>"
      ]
     },
     "metadata": {},
     "output_type": "display_data"
    },
    {
     "data": {
      "text/html": [
       "Tracking run with wandb version 0.18.7"
      ],
      "text/plain": [
       "<IPython.core.display.HTML object>"
      ]
     },
     "metadata": {},
     "output_type": "display_data"
    },
    {
     "data": {
      "text/html": [
       "Run data is saved locally in <code>/Users/thaliacantero/Documents/UdeM/2024 Automne/Science _de_donnes/Project/project-template/source/wandb/run-20241122_050056-vcgo2bcl</code>"
      ],
      "text/plain": [
       "<IPython.core.display.HTML object>"
      ]
     },
     "metadata": {},
     "output_type": "display_data"
    },
    {
     "data": {
      "text/html": [
       "Syncing run <strong><a href='https://wandb.ai/thalia-cantero-udem/IFT6758.2024-A04/runs/vcgo2bcl' target=\"_blank\">Best Params - Cat Boost</a></strong> to <a href='https://wandb.ai/thalia-cantero-udem/IFT6758.2024-A04' target=\"_blank\">Weights & Biases</a> (<a href='https://wandb.me/developer-guide' target=\"_blank\">docs</a>)<br/>"
      ],
      "text/plain": [
       "<IPython.core.display.HTML object>"
      ]
     },
     "metadata": {},
     "output_type": "display_data"
    },
    {
     "data": {
      "text/html": [
       " View project at <a href='https://wandb.ai/thalia-cantero-udem/IFT6758.2024-A04' target=\"_blank\">https://wandb.ai/thalia-cantero-udem/IFT6758.2024-A04</a>"
      ],
      "text/plain": [
       "<IPython.core.display.HTML object>"
      ]
     },
     "metadata": {},
     "output_type": "display_data"
    },
    {
     "data": {
      "text/html": [
       " View run at <a href='https://wandb.ai/thalia-cantero-udem/IFT6758.2024-A04/runs/vcgo2bcl' target=\"_blank\">https://wandb.ai/thalia-cantero-udem/IFT6758.2024-A04/runs/vcgo2bcl</a>"
      ],
      "text/plain": [
       "<IPython.core.display.HTML object>"
      ]
     },
     "metadata": {},
     "output_type": "display_data"
    },
    {
     "name": "stdout",
     "output_type": "stream",
     "text": [
      "Feature Importance:\n",
      "                    Feature  Importance\n",
      "10                 distance   26.970565\n",
      "7             timeLastEvent   16.834402\n",
      "8                     speed   14.001708\n",
      "3                  emptynet    5.534848\n",
      "6              lastDistance    5.456892\n",
      "2               coordinateY    4.485407\n",
      "11                    angle    4.431297\n",
      "47  non_gardiens_adverses_6    3.450050\n",
      "46  non_gardiens_adverses_5    2.129075\n",
      "1               coordinateX    2.000122\n",
      "15               shotType_2    1.487769\n",
      "12              gameSeconds    1.385965\n",
      "0                    gameId    1.304273\n",
      "5           lastCoordinateY    1.161912\n",
      "13              chang_angle    1.142409\n",
      "16               shotType_3    1.089850\n",
      "19               shotType_6    0.960190\n",
      "31             lastEvent_12    0.771127\n",
      "4           lastCoordinateX    0.747001\n",
      "45  non_gardiens_adverses_4    0.560479\n",
      "14               shotType_1    0.522194\n",
      "17               shotType_4    0.520357\n",
      "25              lastEvent_6    0.507265\n",
      "18               shotType_5    0.429739\n",
      "42   non_gardiens_amicaux_5    0.420694\n",
      "26              lastEvent_7    0.211007\n",
      "9                   rebound    0.191466\n",
      "30             lastEvent_11    0.173427\n",
      "43   non_gardiens_amicaux_6    0.154523\n",
      "44  non_gardiens_adverses_3    0.153778\n",
      "41   non_gardiens_amicaux_4    0.128130\n",
      "21              lastEvent_2    0.116401\n",
      "23              lastEvent_4    0.100206\n",
      "32             lastEvent_13    0.100008\n",
      "33                 period_2    0.086975\n",
      "36                 period_5    0.069639\n",
      "24              lastEvent_5    0.067290\n",
      "40   non_gardiens_amicaux_3    0.030434\n",
      "28              lastEvent_9    0.019963\n",
      "34                 period_3    0.019257\n",
      "29             lastEvent_10    0.019059\n",
      "27              lastEvent_8    0.018519\n",
      "35                 period_4    0.011764\n",
      "20              lastEvent_1    0.011645\n",
      "22              lastEvent_3    0.008383\n",
      "39                 period_8    0.002217\n",
      "37                 period_6    0.000320\n",
      "38                 period_7    0.000000\n"
     ]
    }
   ],
   "source": [
    "# Best Parameters for CatBoost: {'depth': 6, 'iterations': 300, 'learning_rate': 0.1}\n",
    "cat_boost(\"IFT6758.2024-A04\", \"cat_boost\", \"Best Params - Cat Boost\", 300, 0.1, 6, X_train, y_train, X_val, y_val)"
   ]
  },
  {
   "cell_type": "code",
   "execution_count": 12,
   "id": "ca76c06a-063f-4df0-8f22-ecf8cfc8dcf4",
   "metadata": {},
   "outputs": [
    {
     "data": {
      "text/html": [
       "Finishing last run (ID:vcgo2bcl) before initializing another..."
      ],
      "text/plain": [
       "<IPython.core.display.HTML object>"
      ]
     },
     "metadata": {},
     "output_type": "display_data"
    },
    {
     "data": {
      "text/html": [
       "\n",
       "    <style>\n",
       "        .wandb-row {\n",
       "            display: flex;\n",
       "            flex-direction: row;\n",
       "            flex-wrap: wrap;\n",
       "            justify-content: flex-start;\n",
       "            width: 100%;\n",
       "        }\n",
       "        .wandb-col {\n",
       "            display: flex;\n",
       "            flex-direction: column;\n",
       "            flex-basis: 100%;\n",
       "            flex: 1;\n",
       "            padding: 10px;\n",
       "        }\n",
       "    </style>\n",
       "<div class=\"wandb-row\"><div class=\"wandb-col\"><h3>Run history:</h3><br/><table class=\"wandb\"><tr><td>AUC</td><td>▁</td></tr><tr><td>Accuracy</td><td>▁</td></tr><tr><td>F1-Score</td><td>▁</td></tr><tr><td>Log Loss</td><td>▁</td></tr></table><br/></div><div class=\"wandb-col\"><h3>Run summary:</h3><br/><table class=\"wandb\"><tr><td>AUC</td><td>0.79131</td></tr><tr><td>Accuracy</td><td>0.9101</td></tr><tr><td>F1-Score</td><td>0.13341</td></tr><tr><td>Log Loss</td><td>0.25803</td></tr></table><br/></div></div>"
      ],
      "text/plain": [
       "<IPython.core.display.HTML object>"
      ]
     },
     "metadata": {},
     "output_type": "display_data"
    },
    {
     "data": {
      "text/html": [
       " View run <strong style=\"color:#cdcd00\">Best Params - Cat Boost</strong> at: <a href='https://wandb.ai/thalia-cantero-udem/IFT6758.2024-A04/runs/vcgo2bcl' target=\"_blank\">https://wandb.ai/thalia-cantero-udem/IFT6758.2024-A04/runs/vcgo2bcl</a><br/> View project at: <a href='https://wandb.ai/thalia-cantero-udem/IFT6758.2024-A04' target=\"_blank\">https://wandb.ai/thalia-cantero-udem/IFT6758.2024-A04</a><br/>Synced 5 W&B file(s), 0 media file(s), 10 artifact file(s) and 5 other file(s)"
      ],
      "text/plain": [
       "<IPython.core.display.HTML object>"
      ]
     },
     "metadata": {},
     "output_type": "display_data"
    },
    {
     "data": {
      "text/html": [
       "Find logs at: <code>./wandb/run-20241122_050056-vcgo2bcl/logs</code>"
      ],
      "text/plain": [
       "<IPython.core.display.HTML object>"
      ]
     },
     "metadata": {},
     "output_type": "display_data"
    },
    {
     "data": {
      "text/html": [
       "Successfully finished last run (ID:vcgo2bcl). Initializing new run:<br/>"
      ],
      "text/plain": [
       "<IPython.core.display.HTML object>"
      ]
     },
     "metadata": {},
     "output_type": "display_data"
    },
    {
     "data": {
      "text/html": [
       "Tracking run with wandb version 0.18.7"
      ],
      "text/plain": [
       "<IPython.core.display.HTML object>"
      ]
     },
     "metadata": {},
     "output_type": "display_data"
    },
    {
     "data": {
      "text/html": [
       "Run data is saved locally in <code>/Users/thaliacantero/Documents/UdeM/2024 Automne/Science _de_donnes/Project/project-template/source/wandb/run-20241122_050106-x2j52zwi</code>"
      ],
      "text/plain": [
       "<IPython.core.display.HTML object>"
      ]
     },
     "metadata": {},
     "output_type": "display_data"
    },
    {
     "data": {
      "text/html": [
       "Syncing run <strong><a href='https://wandb.ai/thalia-cantero-udem/IFT6758.2024-A04/runs/x2j52zwi' target=\"_blank\">Best Params - XG BOOST</a></strong> to <a href='https://wandb.ai/thalia-cantero-udem/IFT6758.2024-A04' target=\"_blank\">Weights & Biases</a> (<a href='https://wandb.me/developer-guide' target=\"_blank\">docs</a>)<br/>"
      ],
      "text/plain": [
       "<IPython.core.display.HTML object>"
      ]
     },
     "metadata": {},
     "output_type": "display_data"
    },
    {
     "data": {
      "text/html": [
       " View project at <a href='https://wandb.ai/thalia-cantero-udem/IFT6758.2024-A04' target=\"_blank\">https://wandb.ai/thalia-cantero-udem/IFT6758.2024-A04</a>"
      ],
      "text/plain": [
       "<IPython.core.display.HTML object>"
      ]
     },
     "metadata": {},
     "output_type": "display_data"
    },
    {
     "data": {
      "text/html": [
       " View run at <a href='https://wandb.ai/thalia-cantero-udem/IFT6758.2024-A04/runs/x2j52zwi' target=\"_blank\">https://wandb.ai/thalia-cantero-udem/IFT6758.2024-A04/runs/x2j52zwi</a>"
      ],
      "text/plain": [
       "<IPython.core.display.HTML object>"
      ]
     },
     "metadata": {},
     "output_type": "display_data"
    },
    {
     "name": "stderr",
     "output_type": "stream",
     "text": [
      "/Users/thaliacantero/ift6758-venv/lib/python3.12/site-packages/xgboost/core.py:158: UserWarning: [05:01:09] WARNING: /Users/runner/work/xgboost/xgboost/src/learner.cc:740: \n",
      "Parameters: { \"use_label_encoder\" } are not used.\n",
      "\n",
      "  warnings.warn(smsg, UserWarning)\n"
     ]
    },
    {
     "name": "stdout",
     "output_type": "stream",
     "text": [
      "Feature Importance:\n",
      "                    Feature  Importance\n",
      "3                  emptynet    0.366750\n",
      "46  non_gardiens_adverses_5    0.085667\n",
      "10                 distance    0.067454\n",
      "18               shotType_5    0.045100\n",
      "36                 period_5    0.041150\n",
      "8                     speed    0.032353\n",
      "7             timeLastEvent    0.021248\n",
      "25              lastEvent_6    0.020878\n",
      "2               coordinateY    0.019698\n",
      "15               shotType_2    0.019055\n",
      "16               shotType_3    0.017866\n",
      "31             lastEvent_12    0.017474\n",
      "17               shotType_4    0.014391\n",
      "14               shotType_1    0.014387\n",
      "19               shotType_6    0.013591\n",
      "11                    angle    0.012155\n",
      "26              lastEvent_7    0.011398\n",
      "13              chang_angle    0.011393\n",
      "9                   rebound    0.011142\n",
      "35                 period_4    0.011140\n",
      "42   non_gardiens_amicaux_5    0.011090\n",
      "43   non_gardiens_amicaux_6    0.010539\n",
      "23              lastEvent_4    0.008706\n",
      "32             lastEvent_13    0.008662\n",
      "41   non_gardiens_amicaux_4    0.008640\n",
      "45  non_gardiens_adverses_4    0.008329\n",
      "6              lastDistance    0.007943\n",
      "5           lastCoordinateY    0.007563\n",
      "0                    gameId    0.007241\n",
      "1               coordinateX    0.007021\n",
      "21              lastEvent_2    0.006586\n",
      "12              gameSeconds    0.006419\n",
      "44  non_gardiens_adverses_3    0.006390\n",
      "4           lastCoordinateX    0.006212\n",
      "33                 period_2    0.005948\n",
      "40   non_gardiens_amicaux_3    0.005802\n",
      "20              lastEvent_1    0.005527\n",
      "24              lastEvent_5    0.004840\n",
      "29             lastEvent_10    0.004507\n",
      "34                 period_3    0.004313\n",
      "27              lastEvent_8    0.001447\n",
      "28              lastEvent_9    0.001041\n",
      "37                 period_6    0.000946\n",
      "38                 period_7    0.000000\n",
      "39                 period_8    0.000000\n",
      "30             lastEvent_11    0.000000\n",
      "22              lastEvent_3    0.000000\n",
      "47  non_gardiens_adverses_6    0.000000\n"
     ]
    }
   ],
   "source": [
    "# Best Parameters for XGBoost: {'learning_rate': 0.05, 'max_depth': 6, 'n_estimators': 300}\n",
    "xg_boost(\"IFT6758.2024-A04\", \"xg_boost\", \"Best Params - XG BOOST\", 300, 0.1, 6, X_train, y_train, X_val, y_val)"
   ]
  },
  {
   "cell_type": "code",
   "execution_count": 4,
   "id": "76b07cab-0bee-469c-b707-33e9fb4610ee",
   "metadata": {},
   "outputs": [
    {
     "name": "stderr",
     "output_type": "stream",
     "text": [
      "\u001b[34m\u001b[1mwandb\u001b[0m: Using wandb-core as the SDK backend.  Please refer to https://wandb.me/wandb-core for more information.\n",
      "\u001b[34m\u001b[1mwandb\u001b[0m: Currently logged in as: \u001b[33mthalia-cantero\u001b[0m (\u001b[33mthalia-cantero-udem\u001b[0m). Use \u001b[1m`wandb login --relogin`\u001b[0m to force relogin\n"
     ]
    },
    {
     "data": {
      "text/html": [
       "Tracking run with wandb version 0.18.7"
      ],
      "text/plain": [
       "<IPython.core.display.HTML object>"
      ]
     },
     "metadata": {},
     "output_type": "display_data"
    },
    {
     "data": {
      "text/html": [
       "Run data is saved locally in <code>/Users/thaliacantero/Documents/UdeM/2024 Automne/Science _de_donnes/Project/project-template/source/wandb/run-20241122_062247-05bpj6v4</code>"
      ],
      "text/plain": [
       "<IPython.core.display.HTML object>"
      ]
     },
     "metadata": {},
     "output_type": "display_data"
    },
    {
     "data": {
      "text/html": [
       "Syncing run <strong><a href='https://wandb.ai/thalia-cantero-udem/IFT6758.2024-A04/runs/05bpj6v4' target=\"_blank\">Best Params - Ligth GBM</a></strong> to <a href='https://wandb.ai/thalia-cantero-udem/IFT6758.2024-A04' target=\"_blank\">Weights & Biases</a> (<a href='https://wandb.me/developer-guide' target=\"_blank\">docs</a>)<br/>"
      ],
      "text/plain": [
       "<IPython.core.display.HTML object>"
      ]
     },
     "metadata": {},
     "output_type": "display_data"
    },
    {
     "data": {
      "text/html": [
       " View project at <a href='https://wandb.ai/thalia-cantero-udem/IFT6758.2024-A04' target=\"_blank\">https://wandb.ai/thalia-cantero-udem/IFT6758.2024-A04</a>"
      ],
      "text/plain": [
       "<IPython.core.display.HTML object>"
      ]
     },
     "metadata": {},
     "output_type": "display_data"
    },
    {
     "data": {
      "text/html": [
       " View run at <a href='https://wandb.ai/thalia-cantero-udem/IFT6758.2024-A04/runs/05bpj6v4' target=\"_blank\">https://wandb.ai/thalia-cantero-udem/IFT6758.2024-A04/runs/05bpj6v4</a>"
      ],
      "text/plain": [
       "<IPython.core.display.HTML object>"
      ]
     },
     "metadata": {},
     "output_type": "display_data"
    },
    {
     "name": "stderr",
     "output_type": "stream",
     "text": [
      "/Users/thaliacantero/ift6758-venv/lib/python3.12/site-packages/sklearn/preprocessing/_label.py:97: DataConversionWarning: A column-vector y was passed when a 1d array was expected. Please change the shape of y to (n_samples, ), for example using ravel().\n",
      "  y = column_or_1d(y, warn=True)\n",
      "/Users/thaliacantero/ift6758-venv/lib/python3.12/site-packages/sklearn/preprocessing/_label.py:132: DataConversionWarning: A column-vector y was passed when a 1d array was expected. Please change the shape of y to (n_samples, ), for example using ravel().\n",
      "  y = column_or_1d(y, dtype=self.classes_.dtype, warn=True)\n"
     ]
    },
    {
     "name": "stdout",
     "output_type": "stream",
     "text": [
      "[LightGBM] [Info] Number of positive: 24695, number of negative: 237141\n",
      "[LightGBM] [Info] Auto-choosing row-wise multi-threading, the overhead of testing was 0.012011 seconds.\n",
      "You can set `force_row_wise=true` to remove the overhead.\n",
      "And if memory is not enough, you can set `force_col_wise=true`.\n",
      "[LightGBM] [Info] Total Bins 2536\n",
      "[LightGBM] [Info] Number of data points in the train set: 261836, number of used features: 44\n",
      "[LightGBM] [Info] [binary:BoostFromScore]: pavg=0.094315 -> initscore=-2.262054\n",
      "[LightGBM] [Info] Start training from score -2.262054\n",
      "[LightGBM] [Warning] No further splits with positive gain, best gain: -inf\n",
      "[LightGBM] [Warning] No further splits with positive gain, best gain: -inf\n",
      "Feature Importance:\n",
      "                    Feature  Importance\n",
      "10                 distance         986\n",
      "0                    gameId         818\n",
      "7             timeLastEvent         794\n",
      "12              gameSeconds         685\n",
      "11                    angle         644\n",
      "6              lastDistance         611\n",
      "2               coordinateY         586\n",
      "1               coordinateX         560\n",
      "5           lastCoordinateY         510\n",
      "8                     speed         486\n",
      "4           lastCoordinateX         431\n",
      "13              chang_angle         368\n",
      "3                  emptynet         184\n",
      "15               shotType_2         140\n",
      "14               shotType_1         137\n",
      "46  non_gardiens_adverses_5         130\n",
      "17               shotType_4         117\n",
      "16               shotType_3         115\n",
      "19               shotType_6         109\n",
      "25              lastEvent_6          78\n",
      "26              lastEvent_7          59\n",
      "18               shotType_5          52\n",
      "31             lastEvent_12          44\n",
      "43   non_gardiens_amicaux_6          37\n",
      "32             lastEvent_13          35\n",
      "41   non_gardiens_amicaux_4          34\n",
      "42   non_gardiens_amicaux_5          33\n",
      "44  non_gardiens_adverses_3          33\n",
      "33                 period_2          28\n",
      "23              lastEvent_4          28\n",
      "21              lastEvent_2          26\n",
      "45  non_gardiens_adverses_4          18\n",
      "34                 period_3          18\n",
      "40   non_gardiens_amicaux_3          14\n",
      "9                   rebound          12\n",
      "27              lastEvent_8           8\n",
      "36                 period_5           7\n",
      "20              lastEvent_1           5\n",
      "29             lastEvent_10           5\n",
      "24              lastEvent_5           4\n",
      "28              lastEvent_9           2\n",
      "39                 period_8           0\n",
      "38                 period_7           0\n",
      "37                 period_6           0\n",
      "35                 period_4           0\n",
      "30             lastEvent_11           0\n",
      "22              lastEvent_3           0\n",
      "47  non_gardiens_adverses_6           0\n"
     ]
    }
   ],
   "source": [
    "import joblib\n",
    "# Best Parameters for LightGBM: {'learning_rate': 0.05, 'max_depth': 6, 'n_estimators': 300}\n",
    "lightgbm(\"IFT6758.2024-A04\", \"ligth_gbm\", \"Best Params - Ligth GBM\", 0.05, 6, 300, X_train, y_train, X_val, y_val)"
   ]
  },
  {
   "cell_type": "code",
   "execution_count": 16,
   "id": "26b52ce0-24c7-44b1-8722-a2e9eb719a5c",
   "metadata": {},
   "outputs": [
    {
     "name": "stdout",
     "output_type": "stream",
     "text": [
      "Preprocessed data saved to ../data/Milestone2_data/Q4_train_processed.csv.csv\n"
     ]
    }
   ],
   "source": [
    "# Keep top 10 features\n",
    "data = preprocess_data('../data/Milestone2_data/Q4_train.csv','../data/Milestone2_data/Q4_train_processed.csv')\n",
    "features = ['distance', 'gameId','gameSeconds','angle','lastDistance','coordinateY','coordinateX','lastCoordinateY','speed']\n",
    "target = ['isGoal']\n",
    "\n",
    "X_train, X_val, y_train, y_val = data_split(data, features, target)"
   ]
  },
  {
   "cell_type": "code",
   "execution_count": 5,
   "id": "1cfe5994-a3a2-4ab6-a61a-8f394510fb81",
   "metadata": {},
   "outputs": [
    {
     "name": "stdout",
     "output_type": "stream",
     "text": [
      "Preprocessed data saved to ../data/Milestone2_data/Q4_train_processed.csv.csv\n"
     ]
    },
    {
     "data": {
      "text/html": [
       "Finishing last run (ID:05bpj6v4) before initializing another..."
      ],
      "text/plain": [
       "<IPython.core.display.HTML object>"
      ]
     },
     "metadata": {},
     "output_type": "display_data"
    },
    {
     "data": {
      "text/html": [
       "\n",
       "    <style>\n",
       "        .wandb-row {\n",
       "            display: flex;\n",
       "            flex-direction: row;\n",
       "            flex-wrap: wrap;\n",
       "            justify-content: flex-start;\n",
       "            width: 100%;\n",
       "        }\n",
       "        .wandb-col {\n",
       "            display: flex;\n",
       "            flex-direction: column;\n",
       "            flex-basis: 100%;\n",
       "            flex: 1;\n",
       "            padding: 10px;\n",
       "        }\n",
       "    </style>\n",
       "<div class=\"wandb-row\"><div class=\"wandb-col\"><h3>Run history:</h3><br/><table class=\"wandb\"><tr><td>AUC</td><td>▁</td></tr><tr><td>Accuracy</td><td>▁</td></tr><tr><td>F1-Score</td><td>▁</td></tr><tr><td>Log Loss</td><td>▁</td></tr></table><br/></div><div class=\"wandb-col\"><h3>Run summary:</h3><br/><table class=\"wandb\"><tr><td>AUC</td><td>0.79145</td></tr><tr><td>Accuracy</td><td>0.91057</td></tr><tr><td>F1-Score</td><td>0.12913</td></tr><tr><td>Log Loss</td><td>0.25765</td></tr></table><br/></div></div>"
      ],
      "text/plain": [
       "<IPython.core.display.HTML object>"
      ]
     },
     "metadata": {},
     "output_type": "display_data"
    },
    {
     "data": {
      "text/html": [
       " View run <strong style=\"color:#cdcd00\">Best Params - Ligth GBM</strong> at: <a href='https://wandb.ai/thalia-cantero-udem/IFT6758.2024-A04/runs/05bpj6v4' target=\"_blank\">https://wandb.ai/thalia-cantero-udem/IFT6758.2024-A04/runs/05bpj6v4</a><br/> View project at: <a href='https://wandb.ai/thalia-cantero-udem/IFT6758.2024-A04' target=\"_blank\">https://wandb.ai/thalia-cantero-udem/IFT6758.2024-A04</a><br/>Synced 5 W&B file(s), 0 media file(s), 10 artifact file(s) and 5 other file(s)"
      ],
      "text/plain": [
       "<IPython.core.display.HTML object>"
      ]
     },
     "metadata": {},
     "output_type": "display_data"
    },
    {
     "data": {
      "text/html": [
       "Find logs at: <code>./wandb/run-20241122_062247-05bpj6v4/logs</code>"
      ],
      "text/plain": [
       "<IPython.core.display.HTML object>"
      ]
     },
     "metadata": {},
     "output_type": "display_data"
    },
    {
     "data": {
      "text/html": [
       "Successfully finished last run (ID:05bpj6v4). Initializing new run:<br/>"
      ],
      "text/plain": [
       "<IPython.core.display.HTML object>"
      ]
     },
     "metadata": {},
     "output_type": "display_data"
    },
    {
     "data": {
      "text/html": [
       "Tracking run with wandb version 0.18.7"
      ],
      "text/plain": [
       "<IPython.core.display.HTML object>"
      ]
     },
     "metadata": {},
     "output_type": "display_data"
    },
    {
     "data": {
      "text/html": [
       "Run data is saved locally in <code>/Users/thaliacantero/Documents/UdeM/2024 Automne/Science _de_donnes/Project/project-template/source/wandb/run-20241122_062648-zwchhkhl</code>"
      ],
      "text/plain": [
       "<IPython.core.display.HTML object>"
      ]
     },
     "metadata": {},
     "output_type": "display_data"
    },
    {
     "data": {
      "text/html": [
       "Syncing run <strong><a href='https://wandb.ai/thalia-cantero-udem/IFT6758.2024-A04/runs/zwchhkhl' target=\"_blank\">Best Params + Features - Ligth GBM</a></strong> to <a href='https://wandb.ai/thalia-cantero-udem/IFT6758.2024-A04' target=\"_blank\">Weights & Biases</a> (<a href='https://wandb.me/developer-guide' target=\"_blank\">docs</a>)<br/>"
      ],
      "text/plain": [
       "<IPython.core.display.HTML object>"
      ]
     },
     "metadata": {},
     "output_type": "display_data"
    },
    {
     "data": {
      "text/html": [
       " View project at <a href='https://wandb.ai/thalia-cantero-udem/IFT6758.2024-A04' target=\"_blank\">https://wandb.ai/thalia-cantero-udem/IFT6758.2024-A04</a>"
      ],
      "text/plain": [
       "<IPython.core.display.HTML object>"
      ]
     },
     "metadata": {},
     "output_type": "display_data"
    },
    {
     "data": {
      "text/html": [
       " View run at <a href='https://wandb.ai/thalia-cantero-udem/IFT6758.2024-A04/runs/zwchhkhl' target=\"_blank\">https://wandb.ai/thalia-cantero-udem/IFT6758.2024-A04/runs/zwchhkhl</a>"
      ],
      "text/plain": [
       "<IPython.core.display.HTML object>"
      ]
     },
     "metadata": {},
     "output_type": "display_data"
    },
    {
     "name": "stderr",
     "output_type": "stream",
     "text": [
      "/Users/thaliacantero/ift6758-venv/lib/python3.12/site-packages/sklearn/preprocessing/_label.py:97: DataConversionWarning: A column-vector y was passed when a 1d array was expected. Please change the shape of y to (n_samples, ), for example using ravel().\n",
      "  y = column_or_1d(y, warn=True)\n",
      "/Users/thaliacantero/ift6758-venv/lib/python3.12/site-packages/sklearn/preprocessing/_label.py:132: DataConversionWarning: A column-vector y was passed when a 1d array was expected. Please change the shape of y to (n_samples, ), for example using ravel().\n",
      "  y = column_or_1d(y, dtype=self.classes_.dtype, warn=True)\n"
     ]
    },
    {
     "name": "stdout",
     "output_type": "stream",
     "text": [
      "[LightGBM] [Info] Number of positive: 24695, number of negative: 237141\n",
      "[LightGBM] [Info] Auto-choosing row-wise multi-threading, the overhead of testing was 0.015572 seconds.\n",
      "You can set `force_row_wise=true` to remove the overhead.\n",
      "And if memory is not enough, you can set `force_col_wise=true`.\n",
      "[LightGBM] [Info] Total Bins 2536\n",
      "[LightGBM] [Info] Number of data points in the train set: 261836, number of used features: 44\n",
      "[LightGBM] [Info] [binary:BoostFromScore]: pavg=0.094315 -> initscore=-2.262054\n",
      "[LightGBM] [Info] Start training from score -2.262054\n",
      "[LightGBM] [Warning] No further splits with positive gain, best gain: -inf\n",
      "[LightGBM] [Warning] No further splits with positive gain, best gain: -inf\n",
      "Feature Importance:\n",
      "                    Feature  Importance\n",
      "10                 distance         986\n",
      "0                    gameId         818\n",
      "7             timeLastEvent         794\n",
      "12              gameSeconds         685\n",
      "11                    angle         644\n",
      "6              lastDistance         611\n",
      "2               coordinateY         586\n",
      "1               coordinateX         560\n",
      "5           lastCoordinateY         510\n",
      "8                     speed         486\n",
      "4           lastCoordinateX         431\n",
      "13              chang_angle         368\n",
      "3                  emptynet         184\n",
      "15               shotType_2         140\n",
      "14               shotType_1         137\n",
      "44  non_gardiens_adverses_5         130\n",
      "17               shotType_4         117\n",
      "16               shotType_3         115\n",
      "19               shotType_6         109\n",
      "25              lastEvent_6          78\n",
      "26              lastEvent_7          59\n",
      "18               shotType_5          52\n",
      "31             lastEvent_12          44\n",
      "41   non_gardiens_amicaux_6          37\n",
      "32             lastEvent_13          35\n",
      "39   non_gardiens_amicaux_4          34\n",
      "42  non_gardiens_adverses_3          33\n",
      "40   non_gardiens_amicaux_5          33\n",
      "33                 period_2          28\n",
      "23              lastEvent_4          28\n",
      "21              lastEvent_2          26\n",
      "34                 period_3          18\n",
      "43  non_gardiens_adverses_4          18\n",
      "38   non_gardiens_amicaux_3          14\n",
      "9                   rebound          12\n",
      "27              lastEvent_8           8\n",
      "36                 period_5           7\n",
      "29             lastEvent_10           5\n",
      "20              lastEvent_1           5\n",
      "24              lastEvent_5           4\n",
      "28              lastEvent_9           2\n",
      "30             lastEvent_11           0\n",
      "35                 period_4           0\n",
      "37                 period_6           0\n",
      "22              lastEvent_3           0\n",
      "45  non_gardiens_adverses_6           0\n"
     ]
    },
    {
     "name": "stderr",
     "output_type": "stream",
     "text": [
      "\u001b[34m\u001b[1mwandb\u001b[0m: \u001b[33mWARNING\u001b[0m Fatal error while uploading data. Some run data will not be synced, but it will still be written to disk. Use `wandb sync` at the end of the run to try uploading.\n"
     ]
    }
   ],
   "source": [
    "data = preprocess_data('../data/Milestone2_data/Q4_train.csv','../data/Milestone2_data/Q4_train_processed.csv')\n",
    "features = ['gameId', 'coordinateX', 'coordinateY', 'emptynet', 'lastCoordinateX',\n",
    "       'lastCoordinateY', 'lastDistance', 'timeLastEvent', 'speed', 'rebound',\n",
    "       'distance', 'angle', 'gameSeconds', 'chang_angle',\n",
    "       'shotType_1', 'shotType_2', 'shotType_3', 'shotType_4', 'shotType_5',\n",
    "       'shotType_6', 'lastEvent_1', 'lastEvent_2', 'lastEvent_3',\n",
    "       'lastEvent_4', 'lastEvent_5', 'lastEvent_6', 'lastEvent_7',\n",
    "       'lastEvent_8', 'lastEvent_9', 'lastEvent_10', 'lastEvent_11',\n",
    "       'lastEvent_12', 'lastEvent_13', 'period_2', 'period_3', 'period_4',\n",
    "       'period_5', 'period_6',\n",
    "       'non_gardiens_amicaux_3', 'non_gardiens_amicaux_4',\n",
    "       'non_gardiens_amicaux_5', 'non_gardiens_amicaux_6',\n",
    "       'non_gardiens_adverses_3', 'non_gardiens_adverses_4',\n",
    "       'non_gardiens_adverses_5', 'non_gardiens_adverses_6']\n",
    "\n",
    "target = ['isGoal']\n",
    "\n",
    "X_train, X_val, y_train, y_val = data_split(data, features, target)\n",
    "\n",
    "# Best Parameters for LightGBM: {'learning_rate': 0.05, 'max_depth': 6, 'n_estimators': 300}\n",
    "lightgbm(\"IFT6758.2024-A04\", \"ligth_gbm\", \"Best Params + Features - Ligth GBM\", 0.05, 6, 300, X_train, y_train, X_val, y_val)"
   ]
  },
  {
   "cell_type": "code",
   "execution_count": 18,
   "id": "dea52dc6-5041-42eb-86f2-624b73ed66a0",
   "metadata": {},
   "outputs": [
    {
     "data": {
      "text/html": [
       "Finishing last run (ID:rkotoqpi) before initializing another..."
      ],
      "text/plain": [
       "<IPython.core.display.HTML object>"
      ]
     },
     "metadata": {},
     "output_type": "display_data"
    },
    {
     "data": {
      "text/html": [
       "\n",
       "    <style>\n",
       "        .wandb-row {\n",
       "            display: flex;\n",
       "            flex-direction: row;\n",
       "            flex-wrap: wrap;\n",
       "            justify-content: flex-start;\n",
       "            width: 100%;\n",
       "        }\n",
       "        .wandb-col {\n",
       "            display: flex;\n",
       "            flex-direction: column;\n",
       "            flex-basis: 100%;\n",
       "            flex: 1;\n",
       "            padding: 10px;\n",
       "        }\n",
       "    </style>\n",
       "<div class=\"wandb-row\"><div class=\"wandb-col\"><h3>Run history:</h3><br/><table class=\"wandb\"><tr><td>AUC</td><td>▁</td></tr><tr><td>Accuracy</td><td>▁</td></tr><tr><td>F1-Score</td><td>▁</td></tr><tr><td>Log Loss</td><td>▁</td></tr></table><br/></div><div class=\"wandb-col\"><h3>Run summary:</h3><br/><table class=\"wandb\"><tr><td>AUC</td><td>0.76049</td></tr><tr><td>Accuracy</td><td>0.90568</td></tr><tr><td>F1-Score</td><td>0.0335</td></tr><tr><td>Log Loss</td><td>0.27395</td></tr></table><br/></div></div>"
      ],
      "text/plain": [
       "<IPython.core.display.HTML object>"
      ]
     },
     "metadata": {},
     "output_type": "display_data"
    },
    {
     "data": {
      "text/html": [
       " View run <strong style=\"color:#cdcd00\">Best Params + Features - Ligth GBM</strong> at: <a href='https://wandb.ai/thalia-cantero-udem/IFT6758.2024-A04/runs/rkotoqpi' target=\"_blank\">https://wandb.ai/thalia-cantero-udem/IFT6758.2024-A04/runs/rkotoqpi</a><br/> View project at: <a href='https://wandb.ai/thalia-cantero-udem/IFT6758.2024-A04' target=\"_blank\">https://wandb.ai/thalia-cantero-udem/IFT6758.2024-A04</a><br/>Synced 5 W&B file(s), 0 media file(s), 10 artifact file(s) and 5 other file(s)"
      ],
      "text/plain": [
       "<IPython.core.display.HTML object>"
      ]
     },
     "metadata": {},
     "output_type": "display_data"
    },
    {
     "data": {
      "text/html": [
       "Find logs at: <code>./wandb/run-20241122_050626-rkotoqpi/logs</code>"
      ],
      "text/plain": [
       "<IPython.core.display.HTML object>"
      ]
     },
     "metadata": {},
     "output_type": "display_data"
    },
    {
     "data": {
      "text/html": [
       "Successfully finished last run (ID:rkotoqpi). Initializing new run:<br/>"
      ],
      "text/plain": [
       "<IPython.core.display.HTML object>"
      ]
     },
     "metadata": {},
     "output_type": "display_data"
    },
    {
     "data": {
      "text/html": [
       "Tracking run with wandb version 0.18.7"
      ],
      "text/plain": [
       "<IPython.core.display.HTML object>"
      ]
     },
     "metadata": {},
     "output_type": "display_data"
    },
    {
     "data": {
      "text/html": [
       "Run data is saved locally in <code>/Users/thaliacantero/Documents/UdeM/2024 Automne/Science _de_donnes/Project/project-template/source/wandb/run-20241122_050702-67adkfli</code>"
      ],
      "text/plain": [
       "<IPython.core.display.HTML object>"
      ]
     },
     "metadata": {},
     "output_type": "display_data"
    },
    {
     "data": {
      "text/html": [
       "Syncing run <strong><a href='https://wandb.ai/thalia-cantero-udem/IFT6758.2024-A04/runs/67adkfli' target=\"_blank\">Best Params + Features - XG BOOST</a></strong> to <a href='https://wandb.ai/thalia-cantero-udem/IFT6758.2024-A04' target=\"_blank\">Weights & Biases</a> (<a href='https://wandb.me/developer-guide' target=\"_blank\">docs</a>)<br/>"
      ],
      "text/plain": [
       "<IPython.core.display.HTML object>"
      ]
     },
     "metadata": {},
     "output_type": "display_data"
    },
    {
     "data": {
      "text/html": [
       " View project at <a href='https://wandb.ai/thalia-cantero-udem/IFT6758.2024-A04' target=\"_blank\">https://wandb.ai/thalia-cantero-udem/IFT6758.2024-A04</a>"
      ],
      "text/plain": [
       "<IPython.core.display.HTML object>"
      ]
     },
     "metadata": {},
     "output_type": "display_data"
    },
    {
     "data": {
      "text/html": [
       " View run at <a href='https://wandb.ai/thalia-cantero-udem/IFT6758.2024-A04/runs/67adkfli' target=\"_blank\">https://wandb.ai/thalia-cantero-udem/IFT6758.2024-A04/runs/67adkfli</a>"
      ],
      "text/plain": [
       "<IPython.core.display.HTML object>"
      ]
     },
     "metadata": {},
     "output_type": "display_data"
    },
    {
     "name": "stderr",
     "output_type": "stream",
     "text": [
      "/Users/thaliacantero/ift6758-venv/lib/python3.12/site-packages/xgboost/core.py:158: UserWarning: [05:07:04] WARNING: /Users/runner/work/xgboost/xgboost/src/learner.cc:740: \n",
      "Parameters: { \"use_label_encoder\" } are not used.\n",
      "\n",
      "  warnings.warn(smsg, UserWarning)\n"
     ]
    },
    {
     "name": "stdout",
     "output_type": "stream",
     "text": [
      "Feature Importance:\n",
      "           Feature  Importance\n",
      "0         distance    0.382620\n",
      "8            speed    0.169794\n",
      "5      coordinateY    0.127470\n",
      "2      gameSeconds    0.078018\n",
      "3            angle    0.062203\n",
      "4     lastDistance    0.051214\n",
      "7  lastCoordinateY    0.045015\n",
      "6      coordinateX    0.043723\n",
      "1           gameId    0.039944\n"
     ]
    }
   ],
   "source": [
    "# Best Parameters for XGBoost: {'learning_rate': 0.05, 'max_depth': 6, 'n_estimators': 300}\n",
    "xg_boost(\"IFT6758.2024-A04\", \"xg_boost\", \"Best Params + Features - XG BOOST\", 300, 0.1, 6, X_train, y_train, X_val, y_val)"
   ]
  },
  {
   "cell_type": "code",
   "execution_count": 19,
   "id": "f5eda52a-50fb-4618-8661-278a6a602683",
   "metadata": {},
   "outputs": [
    {
     "data": {
      "text/html": [
       "Finishing last run (ID:67adkfli) before initializing another..."
      ],
      "text/plain": [
       "<IPython.core.display.HTML object>"
      ]
     },
     "metadata": {},
     "output_type": "display_data"
    },
    {
     "data": {
      "text/html": [
       "\n",
       "    <style>\n",
       "        .wandb-row {\n",
       "            display: flex;\n",
       "            flex-direction: row;\n",
       "            flex-wrap: wrap;\n",
       "            justify-content: flex-start;\n",
       "            width: 100%;\n",
       "        }\n",
       "        .wandb-col {\n",
       "            display: flex;\n",
       "            flex-direction: column;\n",
       "            flex-basis: 100%;\n",
       "            flex: 1;\n",
       "            padding: 10px;\n",
       "        }\n",
       "    </style>\n",
       "<div class=\"wandb-row\"><div class=\"wandb-col\"><h3>Run history:</h3><br/><table class=\"wandb\"><tr><td>AUC</td><td>▁</td></tr><tr><td>Accuracy</td><td>▁</td></tr><tr><td>F1-Score</td><td>▁</td></tr><tr><td>Log Loss</td><td>▁</td></tr></table><br/></div><div class=\"wandb-col\"><h3>Run summary:</h3><br/><table class=\"wandb\"><tr><td>AUC</td><td>0.75774</td></tr><tr><td>Accuracy</td><td>0.90559</td></tr><tr><td>F1-Score</td><td>0.04541</td></tr><tr><td>Log Loss</td><td>0.27492</td></tr></table><br/></div></div>"
      ],
      "text/plain": [
       "<IPython.core.display.HTML object>"
      ]
     },
     "metadata": {},
     "output_type": "display_data"
    },
    {
     "data": {
      "text/html": [
       " View run <strong style=\"color:#cdcd00\">Best Params + Features - XG BOOST</strong> at: <a href='https://wandb.ai/thalia-cantero-udem/IFT6758.2024-A04/runs/67adkfli' target=\"_blank\">https://wandb.ai/thalia-cantero-udem/IFT6758.2024-A04/runs/67adkfli</a><br/> View project at: <a href='https://wandb.ai/thalia-cantero-udem/IFT6758.2024-A04' target=\"_blank\">https://wandb.ai/thalia-cantero-udem/IFT6758.2024-A04</a><br/>Synced 5 W&B file(s), 0 media file(s), 10 artifact file(s) and 5 other file(s)"
      ],
      "text/plain": [
       "<IPython.core.display.HTML object>"
      ]
     },
     "metadata": {},
     "output_type": "display_data"
    },
    {
     "data": {
      "text/html": [
       "Find logs at: <code>./wandb/run-20241122_050702-67adkfli/logs</code>"
      ],
      "text/plain": [
       "<IPython.core.display.HTML object>"
      ]
     },
     "metadata": {},
     "output_type": "display_data"
    },
    {
     "data": {
      "text/html": [
       "Successfully finished last run (ID:67adkfli). Initializing new run:<br/>"
      ],
      "text/plain": [
       "<IPython.core.display.HTML object>"
      ]
     },
     "metadata": {},
     "output_type": "display_data"
    },
    {
     "data": {
      "text/html": [
       "Tracking run with wandb version 0.18.7"
      ],
      "text/plain": [
       "<IPython.core.display.HTML object>"
      ]
     },
     "metadata": {},
     "output_type": "display_data"
    },
    {
     "data": {
      "text/html": [
       "Run data is saved locally in <code>/Users/thaliacantero/Documents/UdeM/2024 Automne/Science _de_donnes/Project/project-template/source/wandb/run-20241122_050800-ke5ziiix</code>"
      ],
      "text/plain": [
       "<IPython.core.display.HTML object>"
      ]
     },
     "metadata": {},
     "output_type": "display_data"
    },
    {
     "data": {
      "text/html": [
       "Syncing run <strong><a href='https://wandb.ai/thalia-cantero-udem/IFT6758.2024-A04/runs/ke5ziiix' target=\"_blank\">Features - KNN</a></strong> to <a href='https://wandb.ai/thalia-cantero-udem/IFT6758.2024-A04' target=\"_blank\">Weights & Biases</a> (<a href='https://wandb.me/developer-guide' target=\"_blank\">docs</a>)<br/>"
      ],
      "text/plain": [
       "<IPython.core.display.HTML object>"
      ]
     },
     "metadata": {},
     "output_type": "display_data"
    },
    {
     "data": {
      "text/html": [
       " View project at <a href='https://wandb.ai/thalia-cantero-udem/IFT6758.2024-A04' target=\"_blank\">https://wandb.ai/thalia-cantero-udem/IFT6758.2024-A04</a>"
      ],
      "text/plain": [
       "<IPython.core.display.HTML object>"
      ]
     },
     "metadata": {},
     "output_type": "display_data"
    },
    {
     "data": {
      "text/html": [
       " View run at <a href='https://wandb.ai/thalia-cantero-udem/IFT6758.2024-A04/runs/ke5ziiix' target=\"_blank\">https://wandb.ai/thalia-cantero-udem/IFT6758.2024-A04/runs/ke5ziiix</a>"
      ],
      "text/plain": [
       "<IPython.core.display.HTML object>"
      ]
     },
     "metadata": {},
     "output_type": "display_data"
    },
    {
     "name": "stderr",
     "output_type": "stream",
     "text": [
      "/Users/thaliacantero/ift6758-venv/lib/python3.12/site-packages/sklearn/neighbors/_classification.py:238: DataConversionWarning: A column-vector y was passed when a 1d array was expected. Please change the shape of y to (n_samples,), for example using ravel().\n",
      "  return self._fit(X, y)\n"
     ]
    }
   ],
   "source": [
    "knn(\"IFT6758.2024-A04\", \"knn\", \"Features - KNN\", 5, X_train, y_train, X_val, y_val)"
   ]
  },
  {
   "cell_type": "code",
   "execution_count": null,
   "id": "19f4f010-07e0-46b8-8796-c9c62b94a031",
   "metadata": {},
   "outputs": [],
   "source": [
    "\n",
    "#Feature Selection \n",
    "\n",
    "from sklearn.ensemble import RandomForestClassifier\n",
    "import pandas as pd\n",
    "\n",
    "# Load preprocessed data\n",
    "data = pd.read_csv(\"data/preprocessed_data.csv\")\n",
    "X = data.drop(columns=['isGoal'])\n",
    "y = data['isGoal']\n",
    "\n",
    "# Train a Random Forest model to get feature importances\n",
    "model = RandomForestClassifier(random_state=42)\n",
    "model.fit(X, y)\n",
    "\n",
    "# Extract feature importances\n",
    "feature_importances = pd.Series(model.feature_importances_, index=X.columns)\n",
    "selected_features = feature_importances[feature_importances > 0.01].index\n",
    "\n",
    "# Reduce X to selected features\n",
    "X_selected = X[selected_features]\n",
    "print(f\"Selected Features: {list(selected_features)}\")\n"
   ]
  },
  {
   "cell_type": "code",
   "execution_count": null,
   "id": "bb9feffb-06c6-4913-b02e-92ef1c5254dc",
   "metadata": {},
   "outputs": [],
   "source": [
    "# Implement Recursive Feature Elimination (RFE)\n",
    "from sklearn.feature_selection import RFE\n",
    "from sklearn.ensemble import RandomForestClassifier\n",
    "\n",
    "# Initialize the estimator\n",
    "estimator = RandomForestClassifier(random_state=42)\n",
    "\n",
    "# Perform Recursive Feature Elimination\n",
    "rfe = RFE(estimator, n_features_to_select=10, step=1)\n",
    "rfe.fit(X, y)\n",
    "\n",
    "# Select features\n",
    "selected_features = X.columns[rfe.support_]\n",
    "X_selected = X[selected_features]\n",
    "print(f\"Selected Features: {list(selected_features)}\")\n"
   ]
  },
  {
   "cell_type": "code",
   "execution_count": null,
   "id": "80e10022-3ae4-4b41-a7e6-d072145d7be7",
   "metadata": {},
   "outputs": [],
   "source": [
    "# Implement Regularization-Based Feature Selection\n",
    "from sklearn.linear_model import LogisticRegression\n",
    "from sklearn.preprocessing import StandardScaler\n",
    "import numpy as np\n",
    "\n",
    "# Scale the data for Logistic Regression\n",
    "scaler = StandardScaler()\n",
    "X_scaled = scaler.fit_transform(X)\n",
    "\n",
    "# Use L1 regularization (Lasso) for feature selection\n",
    "model = LogisticRegression(penalty='l1', solver='saga', random_state=42, max_iter=5000)\n",
    "model.fit(X_scaled, y)\n",
    "\n",
    "# Select features with non-zero coefficients\n",
    "selected_features = X.columns[np.abs(model.coef_[0]) > 1e-5]\n",
    "X_selected = X[selected_features]\n",
    "print(f\"Selected Features: {list(selected_features)}\")\n"
   ]
  },
  {
   "cell_type": "code",
   "execution_count": null,
   "id": "208d9754-05ce-4b94-97ab-b053ac631651",
   "metadata": {},
   "outputs": [],
   "source": [
    "# Implement Dimensionality Reduction with PCA\n",
    "\n",
    "from sklearn.decomposition import PCA\n",
    "\n",
    "# Standardize the features\n",
    "scaler = StandardScaler()\n",
    "X_scaled = scaler.fit_transform(X)\n",
    "\n",
    "# Reduce dimensionality to explain 95% variance\n",
    "pca = PCA(n_components=0.5, random_state=42)\n",
    "X_reduced = pca.fit_transform(X)\n",
    "\n",
    "print(f\"Number of Principal Components: {pca.n_components_}\")\n"
   ]
  },
  {
   "cell_type": "code",
   "execution_count": null,
   "id": "3eb26c8d-1b25-4821-bbf0-445cd5e52f9a",
   "metadata": {},
   "outputs": [],
   "source": [
    "# Selected Features: ['gameId', 'coordinateX', 'coordinateY', 'emptynet', 'lastCoordinateX', 'lastCoordinateY',\n",
    "#'lastDistance', 'timeLastEvent', 'speed', 'distance', 'angle', 'gameSeconds', 'chang_angle', 'period_2', \n",
    "#'non_gardiens_adverses_6']\n",
    "\n",
    "def preprocess_data(file_path):\n",
    "    # Load data\n",
    "    data = pd.read_csv(file_path)\n",
    "\n",
    "    # Normalize features\n",
    "    scaler = MinMaxScaler()\n",
    "    scaled_features = scaler.fit_transform(data[['distance', 'angle', 'speed', 'chang_angle']])\n",
    "    data[['distance', 'angle', 'speed', 'chang_angle']] = scaled_features\n",
    "\n",
    "    # One-hot encode categorical features\n",
    "    categorical_features = ['shotType', 'lastEvent', 'period', 'non_gardiens_amicaux', 'non_gardiens_adverses']\n",
    "    data = pd.get_dummies(data, columns=categorical_features, drop_first=True, dtype=int)\n",
    "\n",
    "    # Save preprocessed data\n",
    "    data.to_csv(\"preprocessed_test_data.csv\", index=False)\n",
    "    print(\"Preprocessed data saved to preprocessed_data.csv\")\n",
    "\n",
    "# Run preprocessing\n",
    "if __name__ == \"__main__\":\n",
    "    preprocess_data('../data/Milestone2_data/Q4_train.csv')"
   ]
  },
  {
   "cell_type": "code",
   "execution_count": null,
   "id": "6b961167-566a-4b3a-9b7c-588e432f456f",
   "metadata": {},
   "outputs": [],
   "source": [
    "selected_features = [\n",
    "    'gameId', 'coordinateX', 'coordinateY', 'emptynet', 'lastCoordinateX',\n",
    "    'lastCoordinateY', 'lastDistance', 'timeLastEvent', 'speed', 'distance',\n",
    "    'angle', 'gameSeconds', 'chang_angle', 'period_2', 'non_gardiens_adverses_6'\n",
    "]"
   ]
  },
  {
   "cell_type": "code",
   "execution_count": null,
   "id": "c35be9e6-5fc9-49fc-b056-0a2d53edd698",
   "metadata": {},
   "outputs": [],
   "source": [
    "data = pd.read_csv(\"data/preprocessed_data.csv\")\n",
    "X = data[selected_features]\n",
    "y = data['isGoal']\n",
    "\n",
    "# Split data\n",
    "X_train, X_val, y_train, y_val = train_test_split(X, y, test_size=0.2, random_state=42)"
   ]
  }
 ],
 "metadata": {
  "kernelspec": {
   "display_name": "ift6758-venv",
   "language": "python",
   "name": "ift6758-venv"
  },
  "language_info": {
   "codemirror_mode": {
    "name": "ipython",
    "version": 3
   },
   "file_extension": ".py",
   "mimetype": "text/x-python",
   "name": "python",
   "nbconvert_exporter": "python",
   "pygments_lexer": "ipython3",
   "version": "3.12.6"
  }
 },
 "nbformat": 4,
 "nbformat_minor": 5
}
