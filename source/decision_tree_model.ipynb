{
 "cells": [
  {
   "cell_type": "code",
   "execution_count": 2,
   "id": "d2033cb2-b585-4f3d-ac5d-cff7280efb74",
   "metadata": {},
   "outputs": [],
   "source": [
    "import create_graphs\n",
    "from sklearn.tree import DecisionTreeClassifier\n",
    "from sklearn.metrics import roc_curve, roc_auc_score\n",
    "\n",
    "def run_decision_tree_classifier(X_train, y_train, X_val, y_val):\n",
    "    \"\"\"\n",
    "    Trains a Decision Tree Classifier, evaluates it, and logs results to WandB.\n",
    "    \"\"\"\n",
    "    # Initialize WandB\n",
    "    wandb.init(project=\"xG-best-model\", job_type=\"decision_tree\", name=\"Decision Tree\")\n",
    "\n",
    "    # Train Decision Tree Classifier\n",
    "    decision_tree_model = DecisionTreeClassifier(max_depth=10, random_state=42)\n",
    "    decision_tree_model.fit(X_train, y_train)\n",
    "\n",
    "    # Predict probabilities\n",
    "    pred_probs = decision_tree_model.predict_proba(X_val)\n",
    "    y_pred = pred_probs[:, 1]  # Positive class probabilities\n",
    "\n",
    "    # Evaluate model\n",
    "    fpr, tpr, _ = roc_curve(y_val, y_pred)\n",
    "    auc = roc_auc_score(y_val, y_pred)\n",
    "\n",
    "    # Log AUC and ROC Curve\n",
    "    wandb.log({\"AUC\": auc})\n",
    "    wandb.log({\"ROC Curve\": wandb.plot.roc_curve(y_val, pred_probs, labels=[\"Non-Goal\", \"Goal\"])})\n",
    "\n",
    "    create_wandb_graphs(y_val, y_pred, name)"
   ]
  }
 ],
 "metadata": {
  "kernelspec": {
   "display_name": "ift6758-venv",
   "language": "python",
   "name": "ift6758-venv"
  },
  "language_info": {
   "codemirror_mode": {
    "name": "ipython",
    "version": 3
   },
   "file_extension": ".py",
   "mimetype": "text/x-python",
   "name": "python",
   "nbconvert_exporter": "python",
   "pygments_lexer": "ipython3",
   "version": "3.12.6"
  }
 },
 "nbformat": 4,
 "nbformat_minor": 5
}
