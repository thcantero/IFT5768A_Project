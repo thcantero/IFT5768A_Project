{
 "cells": [
  {
   "cell_type": "code",
   "execution_count": 1,
   "id": "a888e0aa-0212-4176-9288-44189519cbdc",
   "metadata": {},
   "outputs": [],
   "source": [
    "from create_graphs import create_wandb_graphs\n",
    "from evaluate_model import evaluate_model\n",
    "from models import random_forest, decision_tree, lightgbm, xg_boost, cat_boost, knn\n",
    "from data_preprocess import preprocess_data, data_split"
   ]
  },
  {
   "cell_type": "code",
   "execution_count": 2,
   "id": "92433118-f125-481f-9367-5da312940b35",
   "metadata": {},
   "outputs": [],
   "source": [
    "import matplotlib.pyplot as plt\n",
    "import numpy as np\n",
    "import pandas as pd\n",
    "import wandb, joblib\n",
    "from sklearn.metrics import roc_auc_score, roc_curve\n",
    "from sklearn.calibration import CalibrationDisplay\n",
    "from sklearn.model_selection import train_test_split\n",
    "from sklearn.ensemble import RandomForestClassifier\n",
    "from sklearn.calibration import calibration_curve\n",
    "import pandas as pd\n",
    "import numpy as np\n",
    "from sklearn.preprocessing import MinMaxScaler\n",
    "from sklearn.metrics import roc_auc_score, accuracy_score, f1_score, log_loss, confusion_matrix"
   ]
  },
  {
   "cell_type": "code",
   "execution_count": 17,
   "id": "d73b3b91-b868-435c-a725-67f797289f22",
   "metadata": {},
   "outputs": [
    {
     "name": "stdout",
     "output_type": "stream",
     "text": [
      "Preprocessed data saved to ../data/Milestone2_data/Q4_test_processed.csv.csv\n"
     ]
    }
   ],
   "source": [
    "#LOAD TEST DATA \n",
    "test_data = preprocess_data('../data/Milestone2_data/Q4_test.csv','../data/Milestone2_data/Q4_test_processed.csv')\n",
    "\n",
    "features = ['gameId', 'coordinateX', 'coordinateY', 'emptynet', 'lastCoordinateX',\n",
    "       'lastCoordinateY', 'lastDistance', 'timeLastEvent', 'speed', 'rebound',\n",
    "       'distance', 'angle', 'gameSeconds', 'chang_angle',\n",
    "       'shotType_1', 'shotType_2', 'shotType_3', 'shotType_4', 'shotType_5',\n",
    "       'shotType_6', 'lastEvent_1', 'lastEvent_2', 'lastEvent_3',\n",
    "       'lastEvent_4', 'lastEvent_5', 'lastEvent_6', 'lastEvent_7',\n",
    "       'lastEvent_8', 'lastEvent_9', 'lastEvent_10', 'lastEvent_11',\n",
    "       'lastEvent_12', 'lastEvent_13', 'period_2', 'period_3', 'period_4',\n",
    "       'period_5', 'period_6',\n",
    "       'non_gardiens_amicaux_3', 'non_gardiens_amicaux_4',\n",
    "       'non_gardiens_amicaux_5', 'non_gardiens_amicaux_6',\n",
    "       'non_gardiens_adverses_3', 'non_gardiens_adverses_4',\n",
    "       'non_gardiens_adverses_5', 'non_gardiens_adverses_6']\n",
    "target = ['isGoal']\n",
    "\n",
    "X_test = test_data[features]\n",
    "y_test = test_data[target]"
   ]
  },
  {
   "cell_type": "code",
   "execution_count": 23,
   "id": "a7103a0a-c9a4-4e25-b928-9226242d676d",
   "metadata": {},
   "outputs": [
    {
     "ename": "FileNotFoundError",
     "evalue": "[Errno 2] No such file or directory: 'lightgbm_model.pkl'",
     "output_type": "error",
     "traceback": [
      "\u001b[0;31m---------------------------------------------------------------------------\u001b[0m",
      "\u001b[0;31mFileNotFoundError\u001b[0m                         Traceback (most recent call last)",
      "Cell \u001b[0;32mIn[23], line 5\u001b[0m\n\u001b[1;32m      2\u001b[0m \u001b[38;5;28;01mimport\u001b[39;00m \u001b[38;5;21;01mjoblib\u001b[39;00m\n\u001b[1;32m      4\u001b[0m \u001b[38;5;66;03m# Load the saved model\u001b[39;00m\n\u001b[0;32m----> 5\u001b[0m best_model \u001b[38;5;241m=\u001b[39m \u001b[43mjoblib\u001b[49m\u001b[38;5;241;43m.\u001b[39;49m\u001b[43mload\u001b[49m\u001b[43m(\u001b[49m\u001b[38;5;124;43m\"\u001b[39;49m\u001b[38;5;124;43mlightgbm_model.pkl\u001b[39;49m\u001b[38;5;124;43m\"\u001b[39;49m\u001b[43m)\u001b[49m\n\u001b[1;32m      6\u001b[0m \u001b[38;5;28mprint\u001b[39m(\u001b[38;5;124m\"\u001b[39m\u001b[38;5;124mBest model loaded successfully.\u001b[39m\u001b[38;5;124m\"\u001b[39m)\n",
      "File \u001b[0;32m~/ift6758-venv/lib/python3.12/site-packages/joblib/numpy_pickle.py:650\u001b[0m, in \u001b[0;36mload\u001b[0;34m(filename, mmap_mode)\u001b[0m\n\u001b[1;32m    648\u001b[0m         obj \u001b[38;5;241m=\u001b[39m _unpickle(fobj)\n\u001b[1;32m    649\u001b[0m \u001b[38;5;28;01melse\u001b[39;00m:\n\u001b[0;32m--> 650\u001b[0m     \u001b[38;5;28;01mwith\u001b[39;00m \u001b[38;5;28;43mopen\u001b[39;49m\u001b[43m(\u001b[49m\u001b[43mfilename\u001b[49m\u001b[43m,\u001b[49m\u001b[43m \u001b[49m\u001b[38;5;124;43m'\u001b[39;49m\u001b[38;5;124;43mrb\u001b[39;49m\u001b[38;5;124;43m'\u001b[39;49m\u001b[43m)\u001b[49m \u001b[38;5;28;01mas\u001b[39;00m f:\n\u001b[1;32m    651\u001b[0m         \u001b[38;5;28;01mwith\u001b[39;00m _read_fileobject(f, filename, mmap_mode) \u001b[38;5;28;01mas\u001b[39;00m fobj:\n\u001b[1;32m    652\u001b[0m             \u001b[38;5;28;01mif\u001b[39;00m \u001b[38;5;28misinstance\u001b[39m(fobj, \u001b[38;5;28mstr\u001b[39m):\n\u001b[1;32m    653\u001b[0m                 \u001b[38;5;66;03m# if the returned file object is a string, this means we\u001b[39;00m\n\u001b[1;32m    654\u001b[0m                 \u001b[38;5;66;03m# try to load a pickle file generated with an version of\u001b[39;00m\n\u001b[1;32m    655\u001b[0m                 \u001b[38;5;66;03m# Joblib so we load it with joblib compatibility function.\u001b[39;00m\n",
      "\u001b[0;31mFileNotFoundError\u001b[0m: [Errno 2] No such file or directory: 'lightgbm_model.pkl'"
     ]
    }
   ],
   "source": [
    "import wandb\n",
    "import joblib\n",
    "\n",
    "# Load the saved model\n",
    "best_model = joblib.load(\"lightgbm_model.pkl\")\n",
    "print(\"Best model loaded successfully.\")\n",
    "\n"
   ]
  },
  {
   "cell_type": "code",
   "execution_count": 15,
   "id": "cecdd225-470c-4230-a420-89c9626fdef4",
   "metadata": {},
   "outputs": [],
   "source": [
    "# Predict probabilities\n",
    "y_test_proba = best_model.predict_proba(X_test)[:, 1]\n",
    "\n",
    "# Predict class labels\n",
    "y_test_pred = (y_test_proba >= 0.5).astype(int)\n"
   ]
  },
  {
   "cell_type": "code",
   "execution_count": 18,
   "id": "baee7343-5ed1-4c21-9ed0-b5e78e3b1655",
   "metadata": {},
   "outputs": [
    {
     "name": "stdout",
     "output_type": "stream",
     "text": [
      "AUC Score: 0.5972824955901508\n",
      "Log Loss: 0.5236028743335879\n",
      "Accuracy: 0.9059587736012472\n",
      "F1 Score: 0.07085401334930687\n"
     ]
    }
   ],
   "source": [
    "from sklearn.metrics import roc_auc_score, log_loss, accuracy_score, f1_score\n",
    "\n",
    "# Evaluate metrics\n",
    "auc_score = roc_auc_score(y_test, y_test_proba)\n",
    "log_loss_score = log_loss(y_test, y_test_proba)\n",
    "accuracy = accuracy_score(y_test, y_test_pred)\n",
    "f1 = f1_score(y_test, y_test_pred)\n",
    "\n",
    "# Print results\n",
    "print(f\"AUC Score: {auc_score}\")\n",
    "print(f\"Log Loss: {log_loss_score}\")\n",
    "print(f\"Accuracy: {accuracy}\")\n",
    "print(f\"F1 Score: {f1}\")\n"
   ]
  }
 ],
 "metadata": {
  "kernelspec": {
   "display_name": "ift6758-venv",
   "language": "python",
   "name": "ift6758-venv"
  },
  "language_info": {
   "codemirror_mode": {
    "name": "ipython",
    "version": 3
   },
   "file_extension": ".py",
   "mimetype": "text/x-python",
   "name": "python",
   "nbconvert_exporter": "python",
   "pygments_lexer": "ipython3",
   "version": "3.12.6"
  }
 },
 "nbformat": 4,
 "nbformat_minor": 5
}
