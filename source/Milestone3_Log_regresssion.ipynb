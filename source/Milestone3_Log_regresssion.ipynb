{
 "cells": [
  {
   "cell_type": "code",
   "execution_count": 5,
   "id": "60b1ad42-5f84-45b3-b164-6286fd981ac1",
   "metadata": {},
   "outputs": [],
   "source": [
    "import numpy as np\n",
    "import pandas as pd\n",
    "import seaborn as sns\n",
    "import matplotlib.pyplot as plt\n",
    "from sklearn.model_selection import train_test_split\n",
    "from sklearn import metrics\n",
    "from sklearn.linear_model import LogisticRegression\n",
    "from sklearn.calibration import calibration_curve, CalibrationDisplay\n",
    "from sklearn.metrics import roc_curve, auc\n",
    "from matplotlib.gridspec import GridSpec\n",
    "import matplotlib.ticker as ticker"
   ]
  },
  {
   "cell_type": "code",
   "execution_count": 6,
   "id": "18035c89-64ec-49f4-9759-fa1c894e8cb7",
   "metadata": {},
   "outputs": [
    {
     "name": "stdout",
     "output_type": "stream",
     "text": [
      "Index(['gameID', 'distance', 'angle', 'isGoal', 'emptyNet'], dtype='object')\n",
      "          distance    angle\n",
      "0        13.000000  22.6199\n",
      "1        13.341664  77.0054\n",
      "2       118.270876 -18.7413\n",
      "3        57.974132 -14.9951\n",
      "4        61.717096  26.9802\n",
      "...            ...      ...\n",
      "327249   38.418745 -38.6598\n",
      "327250    8.544004  20.5560\n",
      "327251   55.326305  -6.2258\n",
      "327252   58.855756   9.7824\n",
      "327253   12.000000   0.0000\n",
      "\n",
      "[327254 rows x 2 columns]\n",
      "       gameID    distance    angle  isGoal  emptyNet\n",
      "0  2016020001   13.000000  22.6199       0         0\n",
      "1  2016020001   13.341664  77.0054       0         0\n",
      "2  2016020001  118.270876 -18.7413       0         0\n",
      "3  2016020001   57.974132 -14.9951       0         0\n",
      "4  2016020001   61.717096  26.9802       0         0\n",
      "            gameID   distance    angle  isGoal  emptyNet\n",
      "327249  2019030416  38.418745 -38.6598       0         0\n",
      "327250  2019030416   8.544004  20.5560       0         0\n",
      "327251  2019030416  55.326305  -6.2258       0         0\n",
      "327252  2019030416  58.855756   9.7824       0         0\n",
      "327253  2019030416  12.000000   0.0000       0         0\n"
     ]
    }
   ],
   "source": [
    "import pandas as pd\n",
    "\n",
    "# Read in data and assign X and y\n",
    "data = pd.read_csv('../data/Milestone2_data/Q2_train_data.csv', index_col=0)\n",
    "print(data.columns)\n",
    "print(data[['distance', 'angle' ]])\n",
    "print(data.head())\n",
    "print(data.tail())"
   ]
  },
  {
   "cell_type": "code",
   "execution_count": 7,
   "id": "00662926-cfef-4ffe-be18-e78456747cb5",
   "metadata": {},
   "outputs": [
    {
     "name": "stderr",
     "output_type": "stream",
     "text": [
      "\u001b[34m\u001b[1mwandb\u001b[0m: \u001b[33mWARNING\u001b[0m Calling wandb.login() after wandb.init() has no effect.\n"
     ]
    },
    {
     "data": {
      "text/plain": [
       "True"
      ]
     },
     "execution_count": 7,
     "metadata": {},
     "output_type": "execute_result"
    }
   ],
   "source": [
    "import wandb\n",
    "wandb.login()"
   ]
  },
  {
   "cell_type": "code",
   "execution_count": 5,
   "id": "6f469cb4-1a1c-4d1b-88a6-892c5c90c8e9",
   "metadata": {},
   "outputs": [
    {
     "data": {
      "text/html": [
       "Tracking run with wandb version 0.18.7"
      ],
      "text/plain": [
       "<IPython.core.display.HTML object>"
      ]
     },
     "metadata": {},
     "output_type": "display_data"
    },
    {
     "data": {
      "text/html": [
       "Run data is saved locally in <code>/Users/thaliacantero/Documents/UdeM/2024 Automne/Science _de_donnes/Project/project-template/source/wandb/run-20241221_204343-zm57exhm</code>"
      ],
      "text/plain": [
       "<IPython.core.display.HTML object>"
      ]
     },
     "metadata": {},
     "output_type": "display_data"
    },
    {
     "data": {
      "text/html": [
       "Syncing run <strong><a href='https://wandb.ai/thalia-cantero-udem/IFT6758.2024-A04/runs/zm57exhm' target=\"_blank\">Logistic Regression</a></strong> to <a href='https://wandb.ai/thalia-cantero-udem/IFT6758.2024-A04' target=\"_blank\">Weights & Biases</a> (<a href='https://wandb.me/developer-guide' target=\"_blank\">docs</a>)<br/>"
      ],
      "text/plain": [
       "<IPython.core.display.HTML object>"
      ]
     },
     "metadata": {},
     "output_type": "display_data"
    },
    {
     "data": {
      "text/html": [
       " View project at <a href='https://wandb.ai/thalia-cantero-udem/IFT6758.2024-A04' target=\"_blank\">https://wandb.ai/thalia-cantero-udem/IFT6758.2024-A04</a>"
      ],
      "text/plain": [
       "<IPython.core.display.HTML object>"
      ]
     },
     "metadata": {},
     "output_type": "display_data"
    },
    {
     "data": {
      "text/html": [
       " View run at <a href='https://wandb.ai/thalia-cantero-udem/IFT6758.2024-A04/runs/zm57exhm' target=\"_blank\">https://wandb.ai/thalia-cantero-udem/IFT6758.2024-A04/runs/zm57exhm</a>"
      ],
      "text/plain": [
       "<IPython.core.display.HTML object>"
      ]
     },
     "metadata": {},
     "output_type": "display_data"
    },
    {
     "data": {
      "text/html": [
       "<button onClick=\"this.nextSibling.style.display='block';this.style.display='none';\">Display W&B run</button><iframe src='https://wandb.ai/thalia-cantero-udem/IFT6758.2024-A04/runs/zm57exhm?jupyter=true' style='border:none;width:100%;height:420px;display:none;'></iframe>"
      ],
      "text/plain": [
       "<wandb.sdk.wandb_run.Run at 0x14b955520>"
      ]
     },
     "execution_count": 5,
     "metadata": {},
     "output_type": "execute_result"
    }
   ],
   "source": [
    "# # Initialize WandB\n",
    "# wandb.init(\n",
    "#     project=\"IFT6758.2024-A04\",  \n",
    "#     job_type=\"logistic-regression-angle-and_distance\",\n",
    "#     name=\"Logistic Regression (Angle & Distance)\")"
   ]
  },
  {
   "cell_type": "code",
   "execution_count": 13,
   "id": "62fc313e-caac-491f-9cde-f61728a60888",
   "metadata": {},
   "outputs": [
    {
     "data": {
      "text/html": [
       "Tracking run with wandb version 0.18.7"
      ],
      "text/plain": [
       "<IPython.core.display.HTML object>"
      ]
     },
     "metadata": {},
     "output_type": "display_data"
    },
    {
     "data": {
      "text/html": [
       "Run data is saved locally in <code>/Users/thaliacantero/Documents/UdeM/2024 Automne/DataScience/Project/project-template/source/wandb/run-20241223_145605-50sutami</code>"
      ],
      "text/plain": [
       "<IPython.core.display.HTML object>"
      ]
     },
     "metadata": {},
     "output_type": "display_data"
    },
    {
     "data": {
      "text/html": [
       "Syncing run <strong><a href='https://wandb.ai/thalia-cantero-udem/IFT6758.2024-A04/runs/50sutami' target=\"_blank\">expected-goal-model-angle-and-distance</a></strong> to <a href='https://wandb.ai/thalia-cantero-udem/IFT6758.2024-A04' target=\"_blank\">Weights & Biases</a> (<a href='https://wandb.me/developer-guide' target=\"_blank\">docs</a>)<br/>"
      ],
      "text/plain": [
       "<IPython.core.display.HTML object>"
      ]
     },
     "metadata": {},
     "output_type": "display_data"
    },
    {
     "data": {
      "text/html": [
       " View project at <a href='https://wandb.ai/thalia-cantero-udem/IFT6758.2024-A04' target=\"_blank\">https://wandb.ai/thalia-cantero-udem/IFT6758.2024-A04</a>"
      ],
      "text/plain": [
       "<IPython.core.display.HTML object>"
      ]
     },
     "metadata": {},
     "output_type": "display_data"
    },
    {
     "data": {
      "text/html": [
       " View run at <a href='https://wandb.ai/thalia-cantero-udem/IFT6758.2024-A04/runs/50sutami' target=\"_blank\">https://wandb.ai/thalia-cantero-udem/IFT6758.2024-A04/runs/50sutami</a>"
      ],
      "text/plain": [
       "<IPython.core.display.HTML object>"
      ]
     },
     "metadata": {},
     "output_type": "display_data"
    },
    {
     "data": {
      "text/html": [
       "\n",
       "    <style>\n",
       "        .wandb-row {\n",
       "            display: flex;\n",
       "            flex-direction: row;\n",
       "            flex-wrap: wrap;\n",
       "            justify-content: flex-start;\n",
       "            width: 100%;\n",
       "        }\n",
       "        .wandb-col {\n",
       "            display: flex;\n",
       "            flex-direction: column;\n",
       "            flex-basis: 100%;\n",
       "            flex: 1;\n",
       "            padding: 10px;\n",
       "        }\n",
       "    </style>\n",
       "<div class=\"wandb-row\"><div class=\"wandb-col\"><h3>Run history:</h3><br/><table class=\"wandb\"><tr><td>F1-Score</td><td>▁</td></tr><tr><td>Log Loss</td><td>▁</td></tr><tr><td>accuracy</td><td>▁</td></tr><tr><td>roc_auc</td><td>▁</td></tr></table><br/></div><div class=\"wandb-col\"><h3>Run summary:</h3><br/><table class=\"wandb\"><tr><td>F1-Score</td><td>0</td></tr><tr><td>Log Loss</td><td>0.30123</td></tr><tr><td>accuracy</td><td>0.9035</td></tr><tr><td>roc_auc</td><td>0.69601</td></tr></table><br/></div></div>"
      ],
      "text/plain": [
       "<IPython.core.display.HTML object>"
      ]
     },
     "metadata": {},
     "output_type": "display_data"
    },
    {
     "data": {
      "text/html": [
       " View run <strong style=\"color:#cdcd00\">expected-goal-model-angle-and-distance</strong> at: <a href='https://wandb.ai/thalia-cantero-udem/IFT6758.2024-A04/runs/50sutami' target=\"_blank\">https://wandb.ai/thalia-cantero-udem/IFT6758.2024-A04/runs/50sutami</a><br/> View project at: <a href='https://wandb.ai/thalia-cantero-udem/IFT6758.2024-A04' target=\"_blank\">https://wandb.ai/thalia-cantero-udem/IFT6758.2024-A04</a><br/>Synced 5 W&B file(s), 0 media file(s), 1 artifact file(s) and 0 other file(s)"
      ],
      "text/plain": [
       "<IPython.core.display.HTML object>"
      ]
     },
     "metadata": {},
     "output_type": "display_data"
    },
    {
     "data": {
      "text/html": [
       "Find logs at: <code>./wandb/run-20241223_145605-50sutami/logs</code>"
      ],
      "text/plain": [
       "<IPython.core.display.HTML object>"
      ]
     },
     "metadata": {},
     "output_type": "display_data"
    },
    {
     "name": "stdout",
     "output_type": "stream",
     "text": [
      "Model trained and logged to WandB with accuracy: 0.90, ROC AUC: 0.70\n"
     ]
    }
   ],
   "source": [
    "#Train Model\n",
    "\n",
    "import wandb\n",
    "import pandas as pd\n",
    "from sklearn.linear_model import LogisticRegression\n",
    "from sklearn.model_selection import train_test_split\n",
    "from sklearn.metrics import accuracy_score, roc_auc_score, f1_score, log_loss\n",
    "import joblib\n",
    "\n",
    "# Initialize WandB\n",
    "wandb.init(\n",
    "    project=\"IFT6758.2024-A04\",  \n",
    "    job_type=\"expected-goal-model-angle-and-distance\",\n",
    "    name=\"expected-goal-model-angle-and-distance\",\n",
    "     config={\n",
    "        \"test_size\": 0.2,          # Fraction of data used for testing\n",
    "        \"random_state\": 42,        # Random seed for reproducibility\n",
    "        \"learning_rate\": 0.001,    # Example hyperparameter\n",
    "    })\n",
    "\n",
    "# Configuration (hyperparameters)\n",
    "config = wandb.config\n",
    "\n",
    "# Split the data into features and labels\n",
    "X = data[[\"distance\", \"angle\"]]\n",
    "y = data[\"isGoal\"]\n",
    "\n",
    "# Split into train and test sets\n",
    "X_train, X_test, y_train, y_test = train_test_split(X, y, test_size=config.test_size, random_state=config.random_state)\n",
    "\n",
    "# Train a logistic regression model\n",
    "model = LogisticRegression()\n",
    "model.fit(X_train, y_train)\n",
    "\n",
    "# Make predictions\n",
    "y_pred = model.predict(X_test)\n",
    "y_proba = model.predict_proba(X_test)[:, 1]\n",
    "\n",
    "# Evaluate the model\n",
    "accuracy = accuracy_score(y_test, y_pred)\n",
    "roc_auc = roc_auc_score(y_test, y_proba)\n",
    "f1 = f1_score(y_test, y_pred)\n",
    "logloss = log_loss(y_test, y_proba)\n",
    "\n",
    "# Log metrics to WandB\n",
    "wandb.log({\"accuracy\": accuracy, \"roc_auc\": roc_auc, \"F1-Score\": f1, \"Log Loss\": logloss})\n",
    "\n",
    "# Save the model locally\n",
    "model_path = \"expected-goal-model-angle-and-distance.pkl\"\n",
    "joblib.dump(model, model_path)\n",
    "\n",
    "# Log the model as an artifact\n",
    "artifact = wandb.Artifact(\"expected-goal-model-angle-and-distance\", type=\"model\")\n",
    "artifact.add_file(model_path)\n",
    "wandb.log_artifact(artifact)\n",
    "\n",
    "# Finish the WandB run\n",
    "wandb.finish()\n",
    "\n",
    "print(f\"Model trained and logged to WandB with accuracy: {accuracy:.2f}, ROC AUC: {roc_auc:.2f}\")\n"
   ]
  },
  {
   "cell_type": "code",
   "execution_count": 12,
   "id": "2b44ad6f-5c3a-4d15-a6e6-c08f7acdb9ff",
   "metadata": {},
   "outputs": [
    {
     "data": {
      "text/html": [
       "Tracking run with wandb version 0.18.7"
      ],
      "text/plain": [
       "<IPython.core.display.HTML object>"
      ]
     },
     "metadata": {},
     "output_type": "display_data"
    },
    {
     "data": {
      "text/html": [
       "Run data is saved locally in <code>/Users/thaliacantero/Documents/UdeM/2024 Automne/DataScience/Project/project-template/source/wandb/run-20241223_145214-6c8ch10s</code>"
      ],
      "text/plain": [
       "<IPython.core.display.HTML object>"
      ]
     },
     "metadata": {},
     "output_type": "display_data"
    },
    {
     "data": {
      "text/html": [
       "Syncing run <strong><a href='https://wandb.ai/thalia-cantero-udem/IFT6758.2024-A04/runs/6c8ch10s' target=\"_blank\">expected-goal-distance</a></strong> to <a href='https://wandb.ai/thalia-cantero-udem/IFT6758.2024-A04' target=\"_blank\">Weights & Biases</a> (<a href='https://wandb.me/developer-guide' target=\"_blank\">docs</a>)<br/>"
      ],
      "text/plain": [
       "<IPython.core.display.HTML object>"
      ]
     },
     "metadata": {},
     "output_type": "display_data"
    },
    {
     "data": {
      "text/html": [
       " View project at <a href='https://wandb.ai/thalia-cantero-udem/IFT6758.2024-A04' target=\"_blank\">https://wandb.ai/thalia-cantero-udem/IFT6758.2024-A04</a>"
      ],
      "text/plain": [
       "<IPython.core.display.HTML object>"
      ]
     },
     "metadata": {},
     "output_type": "display_data"
    },
    {
     "data": {
      "text/html": [
       " View run at <a href='https://wandb.ai/thalia-cantero-udem/IFT6758.2024-A04/runs/6c8ch10s' target=\"_blank\">https://wandb.ai/thalia-cantero-udem/IFT6758.2024-A04/runs/6c8ch10s</a>"
      ],
      "text/plain": [
       "<IPython.core.display.HTML object>"
      ]
     },
     "metadata": {},
     "output_type": "display_data"
    },
    {
     "data": {
      "text/html": [
       "\n",
       "    <style>\n",
       "        .wandb-row {\n",
       "            display: flex;\n",
       "            flex-direction: row;\n",
       "            flex-wrap: wrap;\n",
       "            justify-content: flex-start;\n",
       "            width: 100%;\n",
       "        }\n",
       "        .wandb-col {\n",
       "            display: flex;\n",
       "            flex-direction: column;\n",
       "            flex-basis: 100%;\n",
       "            flex: 1;\n",
       "            padding: 10px;\n",
       "        }\n",
       "    </style>\n",
       "<div class=\"wandb-row\"><div class=\"wandb-col\"><h3>Run history:</h3><br/><table class=\"wandb\"><tr><td>F1-Score</td><td>▁</td></tr><tr><td>Log Loss</td><td>▁</td></tr><tr><td>accuracy</td><td>▁</td></tr><tr><td>roc_auc</td><td>▁</td></tr></table><br/></div><div class=\"wandb-col\"><h3>Run summary:</h3><br/><table class=\"wandb\"><tr><td>F1-Score</td><td>0</td></tr><tr><td>Log Loss</td><td>0.30128</td></tr><tr><td>accuracy</td><td>0.9035</td></tr><tr><td>roc_auc</td><td>0.69578</td></tr></table><br/></div></div>"
      ],
      "text/plain": [
       "<IPython.core.display.HTML object>"
      ]
     },
     "metadata": {},
     "output_type": "display_data"
    },
    {
     "data": {
      "text/html": [
       " View run <strong style=\"color:#cdcd00\">expected-goal-distance</strong> at: <a href='https://wandb.ai/thalia-cantero-udem/IFT6758.2024-A04/runs/6c8ch10s' target=\"_blank\">https://wandb.ai/thalia-cantero-udem/IFT6758.2024-A04/runs/6c8ch10s</a><br/> View project at: <a href='https://wandb.ai/thalia-cantero-udem/IFT6758.2024-A04' target=\"_blank\">https://wandb.ai/thalia-cantero-udem/IFT6758.2024-A04</a><br/>Synced 5 W&B file(s), 0 media file(s), 0 artifact file(s) and 0 other file(s)"
      ],
      "text/plain": [
       "<IPython.core.display.HTML object>"
      ]
     },
     "metadata": {},
     "output_type": "display_data"
    },
    {
     "data": {
      "text/html": [
       "Find logs at: <code>./wandb/run-20241223_145214-6c8ch10s/logs</code>"
      ],
      "text/plain": [
       "<IPython.core.display.HTML object>"
      ]
     },
     "metadata": {},
     "output_type": "display_data"
    },
    {
     "name": "stdout",
     "output_type": "stream",
     "text": [
      "Model trained and logged to WandB with accuracy: 0.90, ROC AUC: 0.70\n"
     ]
    }
   ],
   "source": [
    "#Train Model\n",
    "\n",
    "# Initialize WandB\n",
    "wandb.init(\n",
    "    project=\"IFT6758.2024-A04\",  \n",
    "    job_type=\"expected-goal-distance\",\n",
    "    name=\"expected-goal-distance\",\n",
    "     config={\n",
    "        \"test_size\": 0.2,          # Fraction of data used for testing\n",
    "        \"random_state\": 42,        # Random seed for reproducibility\n",
    "        \"learning_rate\": 0.001,    # Example hyperparameter\n",
    "    })\n",
    "\n",
    "# Configuration (hyperparameters)\n",
    "config = wandb.config\n",
    "\n",
    "# Split the data into features and labels\n",
    "X = data[[\"distance\"]]\n",
    "y = data[\"isGoal\"]\n",
    "\n",
    "# Split into train and test sets\n",
    "X_train, X_test, y_train, y_test = train_test_split(X, y, test_size=config.test_size, random_state=config.random_state)\n",
    "\n",
    "# Train a logistic regression model\n",
    "model = LogisticRegression()\n",
    "model.fit(X_train, y_train)\n",
    "\n",
    "# Make predictions\n",
    "y_pred = model.predict(X_test)\n",
    "y_proba = model.predict_proba(X_test)[:, 1]\n",
    "\n",
    "# Evaluate the model\n",
    "accuracy = accuracy_score(y_test, y_pred)\n",
    "roc_auc = roc_auc_score(y_test, y_proba)\n",
    "f1 = f1_score(y_test, y_pred)\n",
    "logloss = log_loss(y_test, y_proba)\n",
    "\n",
    "# Log metrics to WandB\n",
    "wandb.log({\"accuracy\": accuracy, \"roc_auc\": roc_auc, \"F1-Score\": f1, \"Log Loss\": logloss})\n",
    "\n",
    "# Save the model locally\n",
    "model_path = \"expected-goal-distance.pkl\"\n",
    "joblib.dump(model, model_path)\n",
    "\n",
    "# Log the model as an artifact\n",
    "artifact = wandb.Artifact(\"expected-goal-distance\", type=\"model\")\n",
    "artifact.add_file(model_path)\n",
    "wandb.log_artifact(artifact)\n",
    "\n",
    "# Finish the WandB run\n",
    "wandb.finish()\n",
    "\n",
    "print(f\"Model trained and logged to WandB with accuracy: {accuracy:.2f}, ROC AUC: {roc_auc:.2f}\")\n"
   ]
  },
  {
   "cell_type": "code",
   "execution_count": 16,
   "id": "1d5c0725-f1f9-4bb7-adc1-8412e30e2e11",
   "metadata": {},
   "outputs": [
    {
     "name": "stdout",
     "output_type": "stream",
     "text": [
      "Distance: 10.5, Predicted: 0, Probability of Goal: 0.16\n",
      "Distance: 15.2, Predicted: 0, Probability of Goal: 0.14\n",
      "Distance: 20.1, Predicted: 0, Probability of Goal: 0.13\n"
     ]
    }
   ],
   "source": [
    "import pandas as pd\n",
    "import joblib\n",
    "\n",
    "# Load the saved model\n",
    "model_path = \"logistic_regression_distance.pkl\"\n",
    "model = joblib.load(model_path)\n",
    "\n",
    "# Example input data for prediction\n",
    "new_data = pd.DataFrame({\"distance\": [10.5, 15.2, 20.1]})  # Replace with your own data\n",
    "\n",
    "# Make predictions\n",
    "predictions = model.predict(new_data)\n",
    "probabilities = model.predict_proba(new_data)[:, 1]  # Probability of being a goal (class 1)\n",
    "\n",
    "# Display predictions and probabilities\n",
    "for i, dist in enumerate(new_data[\"distance\"]):\n",
    "    print(f\"Distance: {dist}, Predicted: {predictions[i]}, Probability of Goal: {probabilities[i]:.2f}\")\n"
   ]
  },
  {
   "cell_type": "code",
   "execution_count": 15,
   "id": "9ec3b90d-0c9a-4a3f-adc7-ecc2f909e193",
   "metadata": {
    "tags": []
   },
   "outputs": [
    {
     "data": {
      "text/html": [
       "Tracking run with wandb version 0.18.7"
      ],
      "text/plain": [
       "<IPython.core.display.HTML object>"
      ]
     },
     "metadata": {},
     "output_type": "display_data"
    },
    {
     "data": {
      "text/html": [
       "Run data is saved locally in <code>/Users/thaliacantero/Documents/UdeM/2024 Automne/DataScience/Project/project-template/source/wandb/run-20241223_181411-d0jv15cq</code>"
      ],
      "text/plain": [
       "<IPython.core.display.HTML object>"
      ]
     },
     "metadata": {},
     "output_type": "display_data"
    },
    {
     "data": {
      "text/html": [
       "Syncing run <strong><a href='https://wandb.ai/thalia-cantero-udem/IFT6758.2024-A04/runs/d0jv15cq' target=\"_blank\">icy-pine-114</a></strong> to <a href='https://wandb.ai/thalia-cantero-udem/IFT6758.2024-A04' target=\"_blank\">Weights & Biases</a> (<a href='https://wandb.me/developer-guide' target=\"_blank\">docs</a>)<br/>"
      ],
      "text/plain": [
       "<IPython.core.display.HTML object>"
      ]
     },
     "metadata": {},
     "output_type": "display_data"
    },
    {
     "data": {
      "text/html": [
       " View project at <a href='https://wandb.ai/thalia-cantero-udem/IFT6758.2024-A04' target=\"_blank\">https://wandb.ai/thalia-cantero-udem/IFT6758.2024-A04</a>"
      ],
      "text/plain": [
       "<IPython.core.display.HTML object>"
      ]
     },
     "metadata": {},
     "output_type": "display_data"
    },
    {
     "data": {
      "text/html": [
       " View run at <a href='https://wandb.ai/thalia-cantero-udem/IFT6758.2024-A04/runs/d0jv15cq' target=\"_blank\">https://wandb.ai/thalia-cantero-udem/IFT6758.2024-A04/runs/d0jv15cq</a>"
      ],
      "text/plain": [
       "<IPython.core.display.HTML object>"
      ]
     },
     "metadata": {},
     "output_type": "display_data"
    },
    {
     "name": "stderr",
     "output_type": "stream",
     "text": [
      "\u001b[34m\u001b[1mwandb\u001b[0m:   1 of 1 files downloaded.  \n"
     ]
    },
    {
     "name": "stdout",
     "output_type": "stream",
     "text": [
      "Artifact downloaded to: /Users/thaliacantero/Documents/UdeM/2024 Automne/DataScience/Project/project-template/source/artifacts/expected-goal-distance:v1\n"
     ]
    }
   ],
   "source": [
    "import wandb\n",
    "\n",
    "# Login (optional if already logged in)\n",
    "wandb.login()\n",
    "\n",
    "# Project and artifact details\n",
    "project_name = \"IFT6758.2024-A04\"\n",
    "artifact_path = \"thalia-cantero-udem/IFT6758.2024-A04/expected-goal-distance:v1\"\n",
    "\n",
    "# Initialize wandb for the project\n",
    "wandb.init(project=project_name)\n",
    "\n",
    "# Fetch the artifact\n",
    "artifact = wandb.use_artifact(artifact_path)\n",
    "artifact_dir = artifact.download()\n",
    "\n",
    "print(f\"Artifact downloaded to: {artifact_dir}\")\n",
    "\n"
   ]
  },
  {
   "cell_type": "code",
   "execution_count": 14,
   "id": "cc7f7c86-75ac-4670-be8c-87048a18057e",
   "metadata": {
    "tags": []
   },
   "outputs": [
    {
     "name": "stdout",
     "output_type": "stream",
     "text": [
      "403\n"
     ]
    },
    {
     "ename": "JSONDecodeError",
     "evalue": "Expecting value: line 1 column 1 (char 0)",
     "output_type": "error",
     "traceback": [
      "\u001b[0;31m---------------------------------------------------------------------------\u001b[0m",
      "\u001b[0;31mJSONDecodeError\u001b[0m                           Traceback (most recent call last)",
      "File \u001b[0;32m~/ift6758-venv/lib/python3.12/site-packages/requests/models.py:974\u001b[0m, in \u001b[0;36mResponse.json\u001b[0;34m(self, **kwargs)\u001b[0m\n\u001b[1;32m    973\u001b[0m \u001b[38;5;28;01mtry\u001b[39;00m:\n\u001b[0;32m--> 974\u001b[0m     \u001b[38;5;28;01mreturn\u001b[39;00m \u001b[43mcomplexjson\u001b[49m\u001b[38;5;241;43m.\u001b[39;49m\u001b[43mloads\u001b[49m\u001b[43m(\u001b[49m\u001b[38;5;28;43mself\u001b[39;49m\u001b[38;5;241;43m.\u001b[39;49m\u001b[43mtext\u001b[49m\u001b[43m,\u001b[49m\u001b[43m \u001b[49m\u001b[38;5;241;43m*\u001b[39;49m\u001b[38;5;241;43m*\u001b[39;49m\u001b[43mkwargs\u001b[49m\u001b[43m)\u001b[49m\n\u001b[1;32m    975\u001b[0m \u001b[38;5;28;01mexcept\u001b[39;00m JSONDecodeError \u001b[38;5;28;01mas\u001b[39;00m e:\n\u001b[1;32m    976\u001b[0m     \u001b[38;5;66;03m# Catch JSON-related errors and raise as requests.JSONDecodeError\u001b[39;00m\n\u001b[1;32m    977\u001b[0m     \u001b[38;5;66;03m# This aliases json.JSONDecodeError and simplejson.JSONDecodeError\u001b[39;00m\n",
      "File \u001b[0;32m/usr/local/Cellar/python@3.12/3.12.6/Frameworks/Python.framework/Versions/3.12/lib/python3.12/json/__init__.py:346\u001b[0m, in \u001b[0;36mloads\u001b[0;34m(s, cls, object_hook, parse_float, parse_int, parse_constant, object_pairs_hook, **kw)\u001b[0m\n\u001b[1;32m    343\u001b[0m \u001b[38;5;28;01mif\u001b[39;00m (\u001b[38;5;28mcls\u001b[39m \u001b[38;5;129;01mis\u001b[39;00m \u001b[38;5;28;01mNone\u001b[39;00m \u001b[38;5;129;01mand\u001b[39;00m object_hook \u001b[38;5;129;01mis\u001b[39;00m \u001b[38;5;28;01mNone\u001b[39;00m \u001b[38;5;129;01mand\u001b[39;00m\n\u001b[1;32m    344\u001b[0m         parse_int \u001b[38;5;129;01mis\u001b[39;00m \u001b[38;5;28;01mNone\u001b[39;00m \u001b[38;5;129;01mand\u001b[39;00m parse_float \u001b[38;5;129;01mis\u001b[39;00m \u001b[38;5;28;01mNone\u001b[39;00m \u001b[38;5;129;01mand\u001b[39;00m\n\u001b[1;32m    345\u001b[0m         parse_constant \u001b[38;5;129;01mis\u001b[39;00m \u001b[38;5;28;01mNone\u001b[39;00m \u001b[38;5;129;01mand\u001b[39;00m object_pairs_hook \u001b[38;5;129;01mis\u001b[39;00m \u001b[38;5;28;01mNone\u001b[39;00m \u001b[38;5;129;01mand\u001b[39;00m \u001b[38;5;129;01mnot\u001b[39;00m kw):\n\u001b[0;32m--> 346\u001b[0m     \u001b[38;5;28;01mreturn\u001b[39;00m \u001b[43m_default_decoder\u001b[49m\u001b[38;5;241;43m.\u001b[39;49m\u001b[43mdecode\u001b[49m\u001b[43m(\u001b[49m\u001b[43ms\u001b[49m\u001b[43m)\u001b[49m\n\u001b[1;32m    347\u001b[0m \u001b[38;5;28;01mif\u001b[39;00m \u001b[38;5;28mcls\u001b[39m \u001b[38;5;129;01mis\u001b[39;00m \u001b[38;5;28;01mNone\u001b[39;00m:\n",
      "File \u001b[0;32m/usr/local/Cellar/python@3.12/3.12.6/Frameworks/Python.framework/Versions/3.12/lib/python3.12/json/decoder.py:337\u001b[0m, in \u001b[0;36mJSONDecoder.decode\u001b[0;34m(self, s, _w)\u001b[0m\n\u001b[1;32m    333\u001b[0m \u001b[38;5;250m\u001b[39m\u001b[38;5;124;03m\"\"\"Return the Python representation of ``s`` (a ``str`` instance\u001b[39;00m\n\u001b[1;32m    334\u001b[0m \u001b[38;5;124;03mcontaining a JSON document).\u001b[39;00m\n\u001b[1;32m    335\u001b[0m \n\u001b[1;32m    336\u001b[0m \u001b[38;5;124;03m\"\"\"\u001b[39;00m\n\u001b[0;32m--> 337\u001b[0m obj, end \u001b[38;5;241m=\u001b[39m \u001b[38;5;28;43mself\u001b[39;49m\u001b[38;5;241;43m.\u001b[39;49m\u001b[43mraw_decode\u001b[49m\u001b[43m(\u001b[49m\u001b[43ms\u001b[49m\u001b[43m,\u001b[49m\u001b[43m \u001b[49m\u001b[43midx\u001b[49m\u001b[38;5;241;43m=\u001b[39;49m\u001b[43m_w\u001b[49m\u001b[43m(\u001b[49m\u001b[43ms\u001b[49m\u001b[43m,\u001b[49m\u001b[43m \u001b[49m\u001b[38;5;241;43m0\u001b[39;49m\u001b[43m)\u001b[49m\u001b[38;5;241;43m.\u001b[39;49m\u001b[43mend\u001b[49m\u001b[43m(\u001b[49m\u001b[43m)\u001b[49m\u001b[43m)\u001b[49m\n\u001b[1;32m    338\u001b[0m end \u001b[38;5;241m=\u001b[39m _w(s, end)\u001b[38;5;241m.\u001b[39mend()\n",
      "File \u001b[0;32m/usr/local/Cellar/python@3.12/3.12.6/Frameworks/Python.framework/Versions/3.12/lib/python3.12/json/decoder.py:355\u001b[0m, in \u001b[0;36mJSONDecoder.raw_decode\u001b[0;34m(self, s, idx)\u001b[0m\n\u001b[1;32m    354\u001b[0m \u001b[38;5;28;01mexcept\u001b[39;00m \u001b[38;5;167;01mStopIteration\u001b[39;00m \u001b[38;5;28;01mas\u001b[39;00m err:\n\u001b[0;32m--> 355\u001b[0m     \u001b[38;5;28;01mraise\u001b[39;00m JSONDecodeError(\u001b[38;5;124m\"\u001b[39m\u001b[38;5;124mExpecting value\u001b[39m\u001b[38;5;124m\"\u001b[39m, s, err\u001b[38;5;241m.\u001b[39mvalue) \u001b[38;5;28;01mfrom\u001b[39;00m \u001b[38;5;28;01mNone\u001b[39;00m\n\u001b[1;32m    356\u001b[0m \u001b[38;5;28;01mreturn\u001b[39;00m obj, end\n",
      "\u001b[0;31mJSONDecodeError\u001b[0m: Expecting value: line 1 column 1 (char 0)",
      "\nDuring handling of the above exception, another exception occurred:\n",
      "\u001b[0;31mJSONDecodeError\u001b[0m                           Traceback (most recent call last)",
      "Cell \u001b[0;32mIn[14], line 21\u001b[0m\n\u001b[1;32m     19\u001b[0m \u001b[38;5;66;03m# Affichage de la réponse\u001b[39;00m\n\u001b[1;32m     20\u001b[0m \u001b[38;5;28mprint\u001b[39m(response\u001b[38;5;241m.\u001b[39mstatus_code)  \u001b[38;5;66;03m# Devrait être 200 si tout est correct\u001b[39;00m\n\u001b[0;32m---> 21\u001b[0m \u001b[38;5;28mprint\u001b[39m(\u001b[43mresponse\u001b[49m\u001b[38;5;241;43m.\u001b[39;49m\u001b[43mjson\u001b[49m\u001b[43m(\u001b[49m\u001b[43m)\u001b[49m)       \u001b[38;5;66;03m# Réponse JSON renvoyée par Flask\u001b[39;00m\n",
      "File \u001b[0;32m~/ift6758-venv/lib/python3.12/site-packages/requests/models.py:978\u001b[0m, in \u001b[0;36mResponse.json\u001b[0;34m(self, **kwargs)\u001b[0m\n\u001b[1;32m    974\u001b[0m     \u001b[38;5;28;01mreturn\u001b[39;00m complexjson\u001b[38;5;241m.\u001b[39mloads(\u001b[38;5;28mself\u001b[39m\u001b[38;5;241m.\u001b[39mtext, \u001b[38;5;241m*\u001b[39m\u001b[38;5;241m*\u001b[39mkwargs)\n\u001b[1;32m    975\u001b[0m \u001b[38;5;28;01mexcept\u001b[39;00m JSONDecodeError \u001b[38;5;28;01mas\u001b[39;00m e:\n\u001b[1;32m    976\u001b[0m     \u001b[38;5;66;03m# Catch JSON-related errors and raise as requests.JSONDecodeError\u001b[39;00m\n\u001b[1;32m    977\u001b[0m     \u001b[38;5;66;03m# This aliases json.JSONDecodeError and simplejson.JSONDecodeError\u001b[39;00m\n\u001b[0;32m--> 978\u001b[0m     \u001b[38;5;28;01mraise\u001b[39;00m RequestsJSONDecodeError(e\u001b[38;5;241m.\u001b[39mmsg, e\u001b[38;5;241m.\u001b[39mdoc, e\u001b[38;5;241m.\u001b[39mpos)\n",
      "\u001b[0;31mJSONDecodeError\u001b[0m: Expecting value: line 1 column 1 (char 0)"
     ]
    }
   ],
   "source": [
    "import requests\n",
    "\n",
    "# URL du point de terminaison Flask\n",
    "url = \"http://localhost:5000/download_registry_model\"\n",
    "\n",
    "# Payload JSON avec les données nécessaires\n",
    "#expected-goal-distance:v1\n",
    "#expected-goal-model-angle-and-distance:v1\n",
    "payload = {\n",
    "    \"entity\":\"thalia-cantero-udem\",\n",
    "    \"project\":\"IFT6758.2024-A04\",\n",
    "    \"model\": \"expected-goal-distance\",\n",
    "    \"version\": \"v1\"\n",
    "    }\n",
    "#runs/\n",
    "# Envoi de la requête POST\n",
    "response = requests.post(url, json=payload)\n",
    "\n",
    "# Affichage de la réponse\n",
    "print(response.status_code)  # Devrait être 200 si tout est correct\n",
    "print(response.json())       # Réponse JSON renvoyée par Flask\n"
   ]
  }
 ],
 "metadata": {
  "kernelspec": {
   "display_name": "ift6758-venv",
   "language": "python",
   "name": "ift6758-venv"
  },
  "language_info": {
   "codemirror_mode": {
    "name": "ipython",
    "version": 3
   },
   "file_extension": ".py",
   "mimetype": "text/x-python",
   "name": "python",
   "nbconvert_exporter": "python",
   "pygments_lexer": "ipython3",
   "version": "3.12.6"
  }
 },
 "nbformat": 4,
 "nbformat_minor": 5
}
