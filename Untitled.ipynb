{
 "cells": [
  {
   "cell_type": "markdown",
   "id": "db6f50d5-ade1-4f24-8a55-e9d2e92d18d6",
   "metadata": {},
   "source": [
    "* Les métadonnées de la saison elle-même (par exemple, le nombre de matchs joués)  \n",
    "* Classements de la saison \n",
    "* Statistiques des joueurs par saison \n",
    "* Événement précis pour chaque match joué (play-by-play data)."
   ]
  },
  {
   "cell_type": "code",
   "execution_count": 6,
   "id": "a26f75b4-cb9b-4b14-97c6-8b52a1f9b314",
   "metadata": {},
   "outputs": [],
   "source": [
    "import pandas as pd\n",
    "import requests"
   ]
  },
  {
   "cell_type": "code",
   "execution_count": null,
   "id": "529be0e2-ae94-4413-99b0-8702e3544575",
   "metadata": {},
   "outputs": [],
   "source": []
  }
 ],
 "metadata": {
  "kernelspec": {
   "display_name": "Python 3 (ipykernel)",
   "language": "python",
   "name": "python3"
  },
  "language_info": {
   "codemirror_mode": {
    "name": "ipython",
    "version": 3
   },
   "file_extension": ".py",
   "mimetype": "text/x-python",
   "name": "python",
   "nbconvert_exporter": "python",
   "pygments_lexer": "ipython3",
   "version": "3.12.6"
  }
 },
 "nbformat": 4,
 "nbformat_minor": 5
}
